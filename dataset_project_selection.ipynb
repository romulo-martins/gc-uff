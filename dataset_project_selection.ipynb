{
 "cells": [
  {
   "cell_type": "code",
   "execution_count": 1,
   "metadata": {},
   "outputs": [],
   "source": [
    "from github import Github\n",
    "import pandas as pd"
   ]
  },
  {
   "cell_type": "code",
   "execution_count": 2,
   "metadata": {},
   "outputs": [
    {
     "name": "stdout",
     "output_type": "stream",
     "text": [
      "env: token=a96bcae252e327cdc0f1ea9a4f91e1fb2b5a7a4c\n"
     ]
    }
   ],
   "source": [
    "%run settings.ipynb\n",
    "\n",
    "token = %env token"
   ]
  },
  {
   "cell_type": "markdown",
   "metadata": {},
   "source": [
    "https://api.github.com/rate_limit?access_token=\n",
    "\n",
    "GithubException: 422 {'message': 'Only the first 1000 search results are available', 'documentation_url': 'https://developer.github.com/v3/search/'}"
   ]
  },
  {
   "cell_type": "code",
   "execution_count": 3,
   "metadata": {},
   "outputs": [],
   "source": [
    "github = Github(token)\n",
    "github_key = None"
   ]
  },
  {
   "cell_type": "code",
   "execution_count": 4,
   "metadata": {},
   "outputs": [],
   "source": [
    "repos = []\n",
    "brief_repos = []"
   ]
  },
  {
   "cell_type": "code",
   "execution_count": 5,
   "metadata": {},
   "outputs": [],
   "source": [
    "start = 5000\n",
    "steps = [5000,6000,8000,10000,12000,14000,16000,18000,20000]"
   ]
  },
  {
   "cell_type": "code",
   "execution_count": 6,
   "metadata": {},
   "outputs": [],
   "source": [
    "steps = [14000,16000,18000,20000]"
   ]
  },
  {
   "cell_type": "code",
   "execution_count": 28,
   "metadata": {
    "scrolled": true
   },
   "outputs": [
    {
     "name": "stdout",
     "output_type": "stream",
     "text": [
      "stars:14000..16000\n",
      "Repository(full_name=\"eugenp/tutorials\")\n"
     ]
    },
    {
     "ename": "NameError",
     "evalue": "name 'NoneType' is not defined",
     "output_type": "error",
     "traceback": [
      "\u001b[0;31m---------------------------------------------------------------------------\u001b[0m",
      "\u001b[0;31mNameError\u001b[0m                                 Traceback (most recent call last)",
      "\u001b[0;32m<ipython-input-28-33794451383a>\u001b[0m in \u001b[0;36m<module>\u001b[0;34m()\u001b[0m\n\u001b[1;32m     37\u001b[0m             \u001b[0;34m'full_name'\u001b[0m\u001b[0;34m:\u001b[0m \u001b[0mr\u001b[0m\u001b[0;34m.\u001b[0m \u001b[0mfull_name\u001b[0m\u001b[0;34m,\u001b[0m\u001b[0;34m\u001b[0m\u001b[0m\n\u001b[1;32m     38\u001b[0m             \u001b[0;34m'git_url'\u001b[0m\u001b[0;34m:\u001b[0m \u001b[0mr\u001b[0m\u001b[0;34m.\u001b[0m\u001b[0mgit_url\u001b[0m\u001b[0;34m,\u001b[0m\u001b[0;34m\u001b[0m\u001b[0m\n\u001b[0;32m---> 39\u001b[0;31m             \u001b[0;34m'language'\u001b[0m\u001b[0;34m:\u001b[0m \u001b[0mr\u001b[0m\u001b[0;34m.\u001b[0m\u001b[0mlanguage\u001b[0m\u001b[0;34m.\u001b[0m\u001b[0mlower\u001b[0m\u001b[0;34m(\u001b[0m\u001b[0;34m)\u001b[0m \u001b[0;32mif\u001b[0m \u001b[0mr\u001b[0m\u001b[0;34m.\u001b[0m\u001b[0mlanguage\u001b[0m \u001b[0;34m==\u001b[0m \u001b[0mNoneType\u001b[0m \u001b[0;32melse\u001b[0m \u001b[0mNone\u001b[0m\u001b[0;34m\u001b[0m\u001b[0m\n\u001b[0m\u001b[1;32m     40\u001b[0m         }])\n\u001b[1;32m     41\u001b[0m         \u001b[0mbrief_repos\u001b[0m\u001b[0;34m.\u001b[0m\u001b[0mappend\u001b[0m\u001b[0;34m(\u001b[0m\u001b[0mbrief\u001b[0m\u001b[0;34m)\u001b[0m\u001b[0;34m\u001b[0m\u001b[0m\n",
      "\u001b[0;31mNameError\u001b[0m: name 'NoneType' is not defined"
     ]
    }
   ],
   "source": [
    "for i in range(len(steps)):\n",
    "    start_pos = i\n",
    "    end_pos = i+1\n",
    "    start = steps[start_pos]\n",
    "    if end_pos < len(steps):\n",
    "        end = steps[end_pos]\n",
    "        print('stars:%d..%d' % (start,end))\n",
    "        results = github.search_repositories('stars:%d..%d' % (start,end), sort='forks')\n",
    "    else:\n",
    "        print('stars:>%d' % (start))\n",
    "        results = github.search_repositories('stars:>%d' % (start), sort='forks')\n",
    "        \n",
    "    for r in results: #i in range(840,2000):\n",
    "        repo = pd.DataFrame([{\n",
    "            'id': r.id,\n",
    "            'name': r.name,\n",
    "            'full_name': r. full_name,\n",
    "            'description': r.description,\n",
    "            'git_url': r.git_url,\n",
    "            'commits': r.get_commits().totalCount,\n",
    "            'subscribers_count': r.subscribers_count,\n",
    "            'stargazers_count': r.stargazers_count,\n",
    "            'watchers_count': r.watchers_count,\n",
    "            'forks_count': r.forks_count,\n",
    "            'master_branch': r.master_branch,\n",
    "            'homepage': r.homepage,\n",
    "            'language': r.language,\n",
    "            'size': r.size,\n",
    "            'url': r.url,\n",
    "        }])\n",
    "        repos.append(repo)\n",
    "        \n",
    "        brief = pd.DataFrame([{\n",
    "            'id': r.id,\n",
    "            'full_name': r. full_name,\n",
    "            'git_url': r.git_url,\n",
    "            'language': r.language.lower() if r.language == NoneType else None\n",
    "        }])\n",
    "        brief_repos.append(brief)"
   ]
  },
  {
   "cell_type": "code",
   "execution_count": 8,
   "metadata": {},
   "outputs": [
    {
     "data": {
      "text/plain": [
       "655"
      ]
     },
     "execution_count": 8,
     "metadata": {},
     "output_type": "execute_result"
    }
   ],
   "source": [
    "len(repos)"
   ]
  },
  {
   "cell_type": "code",
   "execution_count": 9,
   "metadata": {},
   "outputs": [],
   "source": [
    "repo_df = pd.concat(repos, ignore_index=True)\n",
    "brief_repo_df = pd.concat(brief_repos, ignore_index=True)"
   ]
  },
  {
   "cell_type": "code",
   "execution_count": 10,
   "metadata": {},
   "outputs": [
    {
     "data": {
      "text/plain": [
       "(655, 15)"
      ]
     },
     "execution_count": 10,
     "metadata": {},
     "output_type": "execute_result"
    }
   ],
   "source": [
    "repo_df.shape"
   ]
  },
  {
   "cell_type": "code",
   "execution_count": 11,
   "metadata": {},
   "outputs": [],
   "source": [
    "repo_df = repo_df.drop_duplicates(subset=['full_name'])"
   ]
  },
  {
   "cell_type": "code",
   "execution_count": 12,
   "metadata": {},
   "outputs": [
    {
     "data": {
      "text/plain": [
       "(654, 15)"
      ]
     },
     "execution_count": 12,
     "metadata": {},
     "output_type": "execute_result"
    }
   ],
   "source": [
    "repo_df.shape"
   ]
  },
  {
   "cell_type": "code",
   "execution_count": 13,
   "metadata": {},
   "outputs": [
    {
     "data": {
      "text/plain": [
       "38"
      ]
     },
     "execution_count": 13,
     "metadata": {},
     "output_type": "execute_result"
    }
   ],
   "source": [
    "len(repo_df['language'].unique())"
   ]
  },
  {
   "cell_type": "code",
   "execution_count": 14,
   "metadata": {},
   "outputs": [],
   "source": [
    "brief_repo_df.to_csv('dataset/repo_full.csv', sep=';', encoding = 'utf-8')"
   ]
  },
  {
   "cell_type": "code",
   "execution_count": 15,
   "metadata": {},
   "outputs": [],
   "source": [
    "repo_df.to_pickle('dataset/repo_df.zip')\n",
    "# repo_df.to_excel('repo_df.xlsx')\n",
    "repo_df.to_csv('dataset/repo_df.csv', sep=';', encoding = 'utf-8')"
   ]
  },
  {
   "cell_type": "code",
   "execution_count": 16,
   "metadata": {},
   "outputs": [],
   "source": [
    "repo_df[(repo_df['commits'] >= 5000) & (repo_df['commits'] <= 50000)].to_csv('dataset/repo_df_filtered.csv', sep=';', encoding = 'utf-8')"
   ]
  },
  {
   "cell_type": "code",
   "execution_count": 17,
   "metadata": {},
   "outputs": [],
   "source": [
    "frepo_df = repo_df[(repo_df['commits'] >= 5000) & (repo_df['commits'] <= 50000)]"
   ]
  },
  {
   "cell_type": "code",
   "execution_count": 18,
   "metadata": {},
   "outputs": [
    {
     "data": {
      "text/plain": [
       "145"
      ]
     },
     "execution_count": 18,
     "metadata": {},
     "output_type": "execute_result"
    }
   ],
   "source": [
    "frepo_df['git_url'].count()\n"
   ]
  },
  {
   "cell_type": "code",
   "execution_count": 19,
   "metadata": {},
   "outputs": [
    {
     "data": {
      "text/plain": [
       "25"
      ]
     },
     "execution_count": 19,
     "metadata": {},
     "output_type": "execute_result"
    }
   ],
   "source": [
    "len(frepo_df['language'].unique())"
   ]
  },
  {
   "cell_type": "code",
   "execution_count": 20,
   "metadata": {},
   "outputs": [],
   "source": [
    "pd.DataFrame(frepo_df['git_url']).to_csv('repos.csv')"
   ]
  },
  {
   "cell_type": "code",
   "execution_count": null,
   "metadata": {},
   "outputs": [],
   "source": []
  }
 ],
 "metadata": {
  "kernelspec": {
   "display_name": "Python 2",
   "language": "python",
   "name": "python2"
  },
  "language_info": {
   "codemirror_mode": {
    "name": "ipython",
    "version": 2
   },
   "file_extension": ".py",
   "mimetype": "text/x-python",
   "name": "python",
   "nbconvert_exporter": "python",
   "pygments_lexer": "ipython2",
   "version": "2.7.10"
  }
 },
 "nbformat": 4,
 "nbformat_minor": 2
}
