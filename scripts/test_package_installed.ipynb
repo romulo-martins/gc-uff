{
 "cells": [
  {
   "cell_type": "code",
   "execution_count": 2,
   "metadata": {},
   "outputs": [],
   "source": [
    "from github import Github\n",
    "import pandas as pd"
   ]
  },
  {
   "cell_type": "code",
   "execution_count": 3,
   "metadata": {},
   "outputs": [
    {
     "name": "stdout",
     "output_type": "stream",
     "text": [
      "env: token='MY_TOKEN'\n"
     ]
    }
   ],
   "source": [
    "%run settings.ipynb\n",
    "\n",
    "token = %env token\n",
    "\n",
    "github = Github(\"your token\")"
   ]
  },
  {
   "cell_type": "markdown",
   "metadata": {},
   "source": [
    "## Analyzing testing tools used by projects in the dataset\n",
    "\n",
    "1. Analyze how many projects have package management files.\n",
    "2. Retrieve package management files.\n",
    "3. Analyze if there is any testing tool declared in the package management files.\n",
    "4. Verify which testing tool is being used \n"
   ]
  },
  {
   "cell_type": "code",
   "execution_count": 4,
   "metadata": {},
   "outputs": [
    {
     "data": {
      "text/plain": [
       "array(['JavaScript', 'Python', 'Java', 'Go', 'Ruby', 'PHP', 'TypeScript',\n",
       "       'C#'], dtype=object)"
      ]
     },
     "execution_count": 4,
     "metadata": {},
     "output_type": "execute_result"
    }
   ],
   "source": [
    "tools = pd.read_csv('dataset/de_para_tools.csv', sep=';')\n",
    "\n",
    "tools['language'].unique()\n"
   ]
  },
  {
   "cell_type": "code",
   "execution_count": 5,
   "metadata": {},
   "outputs": [
    {
     "data": {
      "text/plain": [
       "{'JavaScript': {'yes': 0, 'total': 0},\n",
       " 'Python': {'yes': 0, 'total': 0},\n",
       " 'Java': {'yes': 0, 'total': 0},\n",
       " 'Go': {'yes': 0, 'total': 0},\n",
       " 'Ruby': {'yes': 0, 'total': 0},\n",
       " 'PHP': {'yes': 0, 'total': 0},\n",
       " 'TypeScript': {'yes': 0, 'total': 0},\n",
       " 'C#': {'yes': 0, 'total': 0}}"
      ]
     },
     "execution_count": 5,
     "metadata": {},
     "output_type": "execute_result"
    }
   ],
   "source": [
    "manager_file = {}\n",
    "\n",
    "for t in tools['language'].unique():\n",
    "    manager_file[t] = {\"yes\": 0, \"total\": 0}\n",
    "\n",
    "manager_file"
   ]
  },
  {
   "cell_type": "code",
   "execution_count": 6,
   "metadata": {},
   "outputs": [
    {
     "data": {
      "text/plain": [
       "{'JavaScript': {'chai': 0,\n",
       "  'enzyme': 0,\n",
       "  'enzyme-adapter-react-16': 0,\n",
       "  'karma': 0,\n",
       "  'selenium-webdriver': 0,\n",
       "  'jest': 0,\n",
       "  'supertest': 0,\n",
       "  'enzyme-adapter-utils': 0,\n",
       "  'protractor': 0,\n",
       "  'ts-jest': 0,\n",
       "  'nyc': 0,\n",
       "  'jest-cli': 0,\n",
       "  'cypress': 0,\n",
       "  'ava': 0,\n",
       "  'json-server': 0,\n",
       "  'react-testing-library': 0,\n",
       "  'cucumber': 0,\n",
       "  'jsdom': 0,\n",
       "  'Electron': 0,\n",
       "  'Istanbul': 0,\n",
       "  'Unexpected': 0,\n",
       "  'Sinon.JS': 0,\n",
       "  'testdouble.js': 0,\n",
       "  'mocha': 0,\n",
       "  'tape': 0,\n",
       "  'selenium': 0,\n",
       "  'Protractor': 0,\n",
       "  'Nightwatch': 0,\n",
       "  'Appium': 0,\n",
       "  'TestCafe': 0,\n",
       "  'Cypress': 0,\n",
       "  'Puppeteer': 0,\n",
       "  'PhantomJS': 0,\n",
       "  'Percy': 0,\n",
       "  'Happo': 0,\n",
       "  'Gemini': 0},\n",
       " 'Python': {'unittest': 0,\n",
       "  'pytest': 0,\n",
       "  'hypothesis': 0,\n",
       "  'tox': 0,\n",
       "  'mock': 0,\n",
       "  'nose': 0,\n",
       "  'doctest': 0},\n",
       " 'Java': {'junit': 0,\n",
       "  'testNG': 0,\n",
       "  'EasyMock': 0,\n",
       "  'mockito-all': 0,\n",
       "  'mockito-core': 0,\n",
       "  'scalatest': 0,\n",
       "  'spring-test': 0,\n",
       "  'hamcrest-all': 0},\n",
       " 'Go': {'testing': 0,\n",
       "  'gomega': 0,\n",
       "  'ginkgo': 0,\n",
       "  'assert': 0,\n",
       "  'gucumber': 0,\n",
       "  'e2e': 0,\n",
       "  'go-check': 0,\n",
       "  'testutil': 0,\n",
       "  'go-testing-interface': 0,\n",
       "  'biff': 0,\n",
       "  'Testify': 0,\n",
       "  'require': 0,\n",
       "  'convey': 0,\n",
       "  'check': 0,\n",
       "  'suite': 0,\n",
       "  'gocheck': 0,\n",
       "  'spew': 0},\n",
       " 'Ruby': {'rspec': 0, 'Test::Unit': 0, 'Cucumber': 0, 'Shoulda': 0},\n",
       " 'PHP': {'phpunit': 0,\n",
       "  'mockery': 0,\n",
       "  'hamcrest-php': 0,\n",
       "  'php-code-coverage': 0,\n",
       "  'codeception': 0,\n",
       "  'behat': 0,\n",
       "  'test-pack': 0,\n",
       "  'phpspec': 0,\n",
       "  'phpunit-selenium': 0},\n",
       " 'TypeScript': {'chai': 0,\n",
       "  'enzyme': 0,\n",
       "  'enzyme-adapter-react-16': 0,\n",
       "  'karma': 0,\n",
       "  'selenium-webdriver': 0,\n",
       "  'jest': 0,\n",
       "  'supertest': 0,\n",
       "  'enzyme-adapter-utils': 0,\n",
       "  'protractor': 0,\n",
       "  'ts-jest': 0,\n",
       "  'nyc': 0,\n",
       "  'jest-cli': 0,\n",
       "  'cypress': 0,\n",
       "  'ava': 0,\n",
       "  'json-server': 0,\n",
       "  'react-testing-library': 0,\n",
       "  'cucumber': 0,\n",
       "  'jsdom': 0,\n",
       "  'Electron': 0,\n",
       "  'Istanbul': 0,\n",
       "  'Unexpected': 0,\n",
       "  'Sinon.JS': 0,\n",
       "  'testdouble.js': 0,\n",
       "  'mocha': 0,\n",
       "  'tape': 0,\n",
       "  'selenium': 0,\n",
       "  'Protractor': 0,\n",
       "  'Nightwatch': 0,\n",
       "  'Appium': 0,\n",
       "  'TestCafe': 0,\n",
       "  'Cypress': 0,\n",
       "  'Puppeteer': 0,\n",
       "  'PhantomJS': 0,\n",
       "  'Percy': 0,\n",
       "  'Happo': 0,\n",
       "  'Gemini': 0},\n",
       " 'C#': {'NUnit3TestAdapter': 0, 'NUnit': 0, 'CoreClr': 0}}"
      ]
     },
     "execution_count": 6,
     "metadata": {},
     "output_type": "execute_result"
    }
   ],
   "source": [
    "manager_package = {}\n",
    "\n",
    "for t in tools['language'].unique():\n",
    "    manager_package[t] = {}\n",
    "    for p in tools[tools['language'] == t]['test_package']:\n",
    "        manager_package[t][p] = 0\n",
    "\n",
    "manager_package"
   ]
  },
  {
   "cell_type": "markdown",
   "metadata": {},
   "source": [
    "### TO-DO: Dataset update.\n",
    "\n",
    "Make a filter to use only projects using defined programming languages according to the list"
   ]
  },
  {
   "cell_type": "code",
   "execution_count": 7,
   "metadata": {
    "scrolled": true
   },
   "outputs": [
    {
     "data": {
      "text/html": [
       "<div>\n",
       "<style scoped>\n",
       "    .dataframe tbody tr th:only-of-type {\n",
       "        vertical-align: middle;\n",
       "    }\n",
       "\n",
       "    .dataframe tbody tr th {\n",
       "        vertical-align: top;\n",
       "    }\n",
       "\n",
       "    .dataframe thead th {\n",
       "        text-align: right;\n",
       "    }\n",
       "</style>\n",
       "<table border=\"1\" class=\"dataframe\">\n",
       "  <thead>\n",
       "    <tr style=\"text-align: right;\">\n",
       "      <th></th>\n",
       "      <th>full_name</th>\n",
       "      <th>git_url</th>\n",
       "      <th>id</th>\n",
       "      <th>language</th>\n",
       "    </tr>\n",
       "  </thead>\n",
       "  <tbody>\n",
       "    <tr>\n",
       "      <th>0</th>\n",
       "      <td>b4winckler/macvim</td>\n",
       "      <td>git://github.com/b4winckler/macvim.git</td>\n",
       "      <td>692798</td>\n",
       "      <td>C</td>\n",
       "    </tr>\n",
       "    <tr>\n",
       "      <th>1</th>\n",
       "      <td>php/php-src</td>\n",
       "      <td>git://github.com/php/php-src.git</td>\n",
       "      <td>1903522</td>\n",
       "      <td>C</td>\n",
       "    </tr>\n",
       "    <tr>\n",
       "      <th>2</th>\n",
       "      <td>antirez/redis</td>\n",
       "      <td>git://github.com/antirez/redis.git</td>\n",
       "      <td>156018</td>\n",
       "      <td>C</td>\n",
       "    </tr>\n",
       "    <tr>\n",
       "      <th>3</th>\n",
       "      <td>libgit2/libgit2</td>\n",
       "      <td>git://github.com/libgit2/libgit2.git</td>\n",
       "      <td>901662</td>\n",
       "      <td>C</td>\n",
       "    </tr>\n",
       "    <tr>\n",
       "      <th>4</th>\n",
       "      <td>torvalds/linux</td>\n",
       "      <td>git://github.com/torvalds/linux.git</td>\n",
       "      <td>2325298</td>\n",
       "      <td>C</td>\n",
       "    </tr>\n",
       "  </tbody>\n",
       "</table>\n",
       "</div>"
      ],
      "text/plain": [
       "           full_name                                 git_url       id language\n",
       "0  b4winckler/macvim  git://github.com/b4winckler/macvim.git   692798        C\n",
       "1        php/php-src        git://github.com/php/php-src.git  1903522        C\n",
       "2      antirez/redis      git://github.com/antirez/redis.git   156018        C\n",
       "3    libgit2/libgit2    git://github.com/libgit2/libgit2.git   901662        C\n",
       "4     torvalds/linux     git://github.com/torvalds/linux.git  2325298        C"
      ]
     },
     "execution_count": 7,
     "metadata": {},
     "output_type": "execute_result"
    }
   ],
   "source": [
    "repo_full = pd.read_csv('dataset/repositories.csv', sep=';')\n",
    "#repo_full.drop(\"Unnamed: 0\", axis=1, inplace=True) \n",
    "repo_full.head()"
   ]
  },
  {
   "cell_type": "markdown",
   "metadata": {},
   "source": [
    "### Total amount of projects in a given language"
   ]
  },
  {
   "cell_type": "code",
   "execution_count": 8,
   "metadata": {},
   "outputs": [
    {
     "data": {
      "text/plain": [
       "{'JavaScript': {'yes': 0, 'total': 81},\n",
       " 'Python': {'yes': 0, 'total': 52},\n",
       " 'Java': {'yes': 0, 'total': 38},\n",
       " 'Go': {'yes': 0, 'total': 33},\n",
       " 'Ruby': {'yes': 0, 'total': 23},\n",
       " 'PHP': {'yes': 0, 'total': 21},\n",
       " 'TypeScript': {'yes': 0, 'total': 15},\n",
       " 'C#': {'yes': 0, 'total': 13}}"
      ]
     },
     "execution_count": 8,
     "metadata": {},
     "output_type": "execute_result"
    }
   ],
   "source": [
    "for index, row in repo_full.iterrows():\n",
    "    if row['language'] in manager_file:\n",
    "        manager_file[row['language']][\"total\"]+=1\n",
    "\n",
    "manager_file"
   ]
  },
  {
   "cell_type": "markdown",
   "metadata": {},
   "source": [
    "#### Package management file"
   ]
  },
  {
   "cell_type": "code",
   "execution_count": 9,
   "metadata": {},
   "outputs": [
    {
     "data": {
      "text/html": [
       "<div>\n",
       "<style scoped>\n",
       "    .dataframe tbody tr th:only-of-type {\n",
       "        vertical-align: middle;\n",
       "    }\n",
       "\n",
       "    .dataframe tbody tr th {\n",
       "        vertical-align: top;\n",
       "    }\n",
       "\n",
       "    .dataframe thead th {\n",
       "        text-align: right;\n",
       "    }\n",
       "</style>\n",
       "<table border=\"1\" class=\"dataframe\">\n",
       "  <thead>\n",
       "    <tr style=\"text-align: right;\">\n",
       "      <th></th>\n",
       "      <th>language</th>\n",
       "      <th>test_package</th>\n",
       "      <th>file_packages_installed</th>\n",
       "    </tr>\n",
       "  </thead>\n",
       "  <tbody>\n",
       "    <tr>\n",
       "      <th>43</th>\n",
       "      <td>Java</td>\n",
       "      <td>junit</td>\n",
       "      <td>pom.xml</td>\n",
       "    </tr>\n",
       "    <tr>\n",
       "      <th>44</th>\n",
       "      <td>Java</td>\n",
       "      <td>testNG</td>\n",
       "      <td>pom.xml</td>\n",
       "    </tr>\n",
       "    <tr>\n",
       "      <th>45</th>\n",
       "      <td>Java</td>\n",
       "      <td>EasyMock</td>\n",
       "      <td>pom.xml</td>\n",
       "    </tr>\n",
       "    <tr>\n",
       "      <th>46</th>\n",
       "      <td>Java</td>\n",
       "      <td>mockito-all</td>\n",
       "      <td>pom.xml</td>\n",
       "    </tr>\n",
       "    <tr>\n",
       "      <th>47</th>\n",
       "      <td>Java</td>\n",
       "      <td>mockito-core</td>\n",
       "      <td>pom.xml</td>\n",
       "    </tr>\n",
       "    <tr>\n",
       "      <th>48</th>\n",
       "      <td>Java</td>\n",
       "      <td>scalatest</td>\n",
       "      <td>pom.xml</td>\n",
       "    </tr>\n",
       "    <tr>\n",
       "      <th>49</th>\n",
       "      <td>Java</td>\n",
       "      <td>spring-test</td>\n",
       "      <td>pom.xml</td>\n",
       "    </tr>\n",
       "    <tr>\n",
       "      <th>50</th>\n",
       "      <td>Java</td>\n",
       "      <td>hamcrest-all</td>\n",
       "      <td>pom.xml</td>\n",
       "    </tr>\n",
       "  </tbody>\n",
       "</table>\n",
       "</div>"
      ],
      "text/plain": [
       "   language  test_package file_packages_installed\n",
       "43     Java         junit                 pom.xml\n",
       "44     Java        testNG                 pom.xml\n",
       "45     Java      EasyMock                 pom.xml\n",
       "46     Java   mockito-all                 pom.xml\n",
       "47     Java  mockito-core                 pom.xml\n",
       "48     Java     scalatest                 pom.xml\n",
       "49     Java   spring-test                 pom.xml\n",
       "50     Java  hamcrest-all                 pom.xml"
      ]
     },
     "execution_count": 9,
     "metadata": {},
     "output_type": "execute_result"
    }
   ],
   "source": [
    "tools[tools['language'] == 'Java']"
   ]
  },
  {
   "cell_type": "markdown",
   "metadata": {},
   "source": [
    "### Total amount of projects that have a package management file."
   ]
  },
  {
   "cell_type": "code",
   "execution_count": 10,
   "metadata": {
    "scrolled": false
   },
   "outputs": [
    {
     "name": "stdout",
     "output_type": "stream",
     "text": [
      "neo4j/neo4j\n",
      "jenkinsci/jenkins\n",
      "deeplearning4j/deeplearning4j\n",
      "apache/hadoop\n",
      "spring-projects/spring-boot\n",
      "apache/flink\n",
      "apache/incubator-shardingsphere\n",
      "prestodb/presto\n",
      "stanfordnlp/CoreNLP\n",
      "libgdx/libgdx\n",
      "dbeaver/dbeaver\n",
      "eugenp/tutorials\n",
      "naver/pinpoint\n",
      "apache/storm\n",
      "netty/netty\n",
      "apache/incubator-druid\n",
      "eclipse/che\n",
      "dianping/cat\n",
      "antlr/antlr4\n",
      "b3log/symphony\n",
      "alibaba/druid\n"
     ]
    },
    {
     "data": {
      "text/plain": [
       "[     full_name language package\n",
       " 0  neo4j/neo4j     Java    None,            full_name language package\n",
       " 0  jenkinsci/jenkins     Java   junit,            full_name language       package\n",
       " 0  jenkinsci/jenkins     Java  mockito-core,            full_name language       package\n",
       " 0  jenkinsci/jenkins     Java  mockito-core,                        full_name language package\n",
       " 0  deeplearning4j/deeplearning4j     Java   junit,                        full_name language    package\n",
       " 0  deeplearning4j/deeplearning4j     Java  scalatest,                        full_name language    package\n",
       " 0  deeplearning4j/deeplearning4j     Java  scalatest,        full_name language package\n",
       " 0  apache/hadoop     Java    None,                      full_name language package\n",
       " 0  spring-projects/spring-boot     Java    None,       full_name language package\n",
       " 0  apache/flink     Java   junit,       full_name language       package\n",
       " 0  apache/flink     Java  mockito-core,       full_name language    package\n",
       " 0  apache/flink     Java  scalatest,       full_name language       package\n",
       " 0  apache/flink     Java  hamcrest-all,       full_name language       package\n",
       " 0  apache/flink     Java  hamcrest-all,                          full_name language package\n",
       " 0  apache/incubator-shardingsphere     Java   junit,                          full_name language       package\n",
       " 0  apache/incubator-shardingsphere     Java  mockito-core,                          full_name language       package\n",
       " 0  apache/incubator-shardingsphere     Java  mockito-core,          full_name language package\n",
       " 0  prestodb/presto     Java    None,              full_name language package\n",
       " 0  stanfordnlp/CoreNLP     Java   junit,              full_name language package\n",
       " 0  stanfordnlp/CoreNLP     Java   junit,        full_name language package\n",
       " 0  libgdx/libgdx     Java    None,          full_name language package\n",
       " 0  dbeaver/dbeaver     Java   junit,          full_name language      package\n",
       " 0  dbeaver/dbeaver     Java  mockito-all,          full_name language      package\n",
       " 0  dbeaver/dbeaver     Java  mockito-all,           full_name language package\n",
       " 0  eugenp/tutorials     Java   junit,           full_name language       package\n",
       " 0  eugenp/tutorials     Java  mockito-core,           full_name language       package\n",
       " 0  eugenp/tutorials     Java  hamcrest-all,           full_name language       package\n",
       " 0  eugenp/tutorials     Java  hamcrest-all,         full_name language package\n",
       " 0  naver/pinpoint     Java   junit,         full_name language       package\n",
       " 0  naver/pinpoint     Java  mockito-core,         full_name language      package\n",
       " 0  naver/pinpoint     Java  spring-test,         full_name language      package\n",
       " 0  naver/pinpoint     Java  spring-test,       full_name language package\n",
       " 0  apache/storm     Java   junit,       full_name language       package\n",
       " 0  apache/storm     Java  mockito-core,       full_name language       package\n",
       " 0  apache/storm     Java  mockito-core,      full_name language package\n",
       " 0  netty/netty     Java   junit,      full_name language       package\n",
       " 0  netty/netty     Java  mockito-core,      full_name language       package\n",
       " 0  netty/netty     Java  mockito-core,                 full_name language package\n",
       " 0  apache/incubator-druid     Java   junit,                 full_name language       package\n",
       " 0  apache/incubator-druid     Java  hamcrest-all,                 full_name language       package\n",
       " 0  apache/incubator-druid     Java  hamcrest-all,      full_name language package\n",
       " 0  eclipse/che     Java   junit,      full_name language package\n",
       " 0  eclipse/che     Java   junit,       full_name language package\n",
       " 0  dianping/cat     Java   junit,       full_name language package\n",
       " 0  dianping/cat     Java   junit,       full_name language package\n",
       " 0  antlr/antlr4     Java    None,         full_name language package\n",
       " 0  b3log/symphony     Java    None,        full_name language package\n",
       " 0  alibaba/druid     Java   junit,        full_name language      package\n",
       " 0  alibaba/druid     Java  spring-test,        full_name language      package\n",
       " 0  alibaba/druid     Java  spring-test]"
      ]
     },
     "execution_count": 10,
     "metadata": {},
     "output_type": "execute_result"
    }
   ],
   "source": [
    "import requests\n",
    "import csv\n",
    "\n",
    "resp = []\n",
    "for index, row in repo_full.iterrows():\n",
    "    packages = tools[tools['language'] == row['language']]\n",
    "    arq = packages['file_packages_installed'].unique()\n",
    "    if(row['language'] == 'Java'):\n",
    "        if(len(arq) > 0):\n",
    "            #Get a repository by its name\n",
    "            repo = github.get_repo(row['full_name'])\n",
    "            #print(row['full_name'])\n",
    "            try:\n",
    "                #Get a specific file\n",
    "                content = repo.get_contents(str(arq[0]))\n",
    "                print(row['full_name'])\n",
    "                #Store how many projects have package management file\n",
    "                manager_file[row['language']][\"yes\"]+=1\n",
    "\n",
    "                #Get file content through API request\n",
    "                #print('https://raw.githubusercontent.com/' + row['full_name'] + '/master/' +  content.path)\n",
    "                response = requests.get('https://raw.githubusercontent.com/' + row['full_name'] + '/master/' +  content.path)\n",
    "                response.encoding = 'utf-8'\n",
    "                texto = response.text\n",
    "\n",
    "                #Verify if it uses any testing package from the mapped tools\n",
    "                is_test = 0\n",
    "                for p in packages['test_package']:\n",
    "                    if(texto.count(p)>0):\n",
    "                        is_test = 1\n",
    "                        manager_package[row['language']][p]+=1\n",
    "                        r =  pd.DataFrame([{\n",
    "                            'full_name': row['full_name'], \n",
    "                            'language': row['language'], \n",
    "                            'package': p\n",
    "                        }])\n",
    "                        resp.append(r)\n",
    "                if(not is_test):\n",
    "                    r =  pd.DataFrame([{\n",
    "                        'full_name': row['full_name'], \n",
    "                        'language': row['language'], \n",
    "                        'package': None\n",
    "                    }])\n",
    "                resp.append(r)\n",
    "\n",
    "            except:\n",
    "                #print(row['full_name'], row['language'], arq)\n",
    "                pass\n",
    "\n",
    "\n",
    "#manager_file\n",
    "#manager_package\n",
    "resp"
   ]
  },
  {
   "cell_type": "code",
   "execution_count": 11,
   "metadata": {},
   "outputs": [],
   "source": [
    "package_df = pd.concat(resp, ignore_index=True)"
   ]
  },
  {
   "cell_type": "code",
   "execution_count": 12,
   "metadata": {},
   "outputs": [
    {
     "data": {
      "text/plain": [
       "(50, 3)"
      ]
     },
     "execution_count": 12,
     "metadata": {},
     "output_type": "execute_result"
    }
   ],
   "source": [
    "package_df.shape"
   ]
  },
  {
   "cell_type": "code",
   "execution_count": 13,
   "metadata": {},
   "outputs": [],
   "source": [
    "package_df = package_df.drop_duplicates(subset=['full_name', 'language', 'package'])"
   ]
  },
  {
   "cell_type": "code",
   "execution_count": 14,
   "metadata": {},
   "outputs": [
    {
     "data": {
      "text/plain": [
       "(36, 3)"
      ]
     },
     "execution_count": 14,
     "metadata": {},
     "output_type": "execute_result"
    }
   ],
   "source": [
    "package_df.shape"
   ]
  },
  {
   "cell_type": "code",
   "execution_count": 25,
   "metadata": {},
   "outputs": [],
   "source": [
    "package_df.to_csv('dataset/miner_package.csv', sep=';', encoding = 'utf-8')"
   ]
  },
  {
   "cell_type": "code",
   "execution_count": 98,
   "metadata": {},
   "outputs": [
    {
     "data": {
      "text/plain": [
       "{'C#': {'CoreClr': 0, 'NUnit': 0, 'NUnit3TestAdapter': 0},\n",
       " 'Go': {'Testify': 0,\n",
       "  'assert': 48,\n",
       "  'biff': 0,\n",
       "  'check': 60,\n",
       "  'convey': 48,\n",
       "  'e2e': 24,\n",
       "  'ginkgo': 60,\n",
       "  'go-check': 16,\n",
       "  'go-testing-interface': 36,\n",
       "  'gocheck': 4,\n",
       "  'gomega': 64,\n",
       "  'gucumber': 0,\n",
       "  'require': 0,\n",
       "  'spew': 65,\n",
       "  'suite': 4,\n",
       "  'testing': 55,\n",
       "  'testutil': 4},\n",
       " 'Java': {'EasyMock': 0,\n",
       "  'hamcrest-all': 12,\n",
       "  'junit': 70,\n",
       "  'mockito-all': 4,\n",
       "  'mockito-core': 28,\n",
       "  'scalatest': 8,\n",
       "  'spring-test': 8,\n",
       "  'testNG': 0},\n",
       " 'JavaScript': {'Appium': 0,\n",
       "  'Cypress': 0,\n",
       "  'Electron': 0,\n",
       "  'Gemini': 4,\n",
       "  'Happo': 0,\n",
       "  'Istanbul': 0,\n",
       "  'Nightwatch': 0,\n",
       "  'Percy': 0,\n",
       "  'PhantomJS': 0,\n",
       "  'Protractor': 0,\n",
       "  'Puppeteer': 0,\n",
       "  'Sinon.JS': 0,\n",
       "  'TestCafe': 0,\n",
       "  'Unexpected': 0,\n",
       "  'ava': 82,\n",
       "  'chai': 105,\n",
       "  'cucumber': 0,\n",
       "  'cypress': 4,\n",
       "  'enzyme': 48,\n",
       "  'enzyme-adapter-react-16': 36,\n",
       "  'enzyme-adapter-utils': 4,\n",
       "  'jest': 92,\n",
       "  'jest-cli': 44,\n",
       "  'jsdom': 59,\n",
       "  'json-server': 0,\n",
       "  'karma': 81,\n",
       "  'mocha': 126,\n",
       "  'nyc': 46,\n",
       "  'protractor': 8,\n",
       "  'react-testing-library': 4,\n",
       "  'selenium': 24,\n",
       "  'selenium-webdriver': 20,\n",
       "  'supertest': 31,\n",
       "  'tape': 4,\n",
       "  'testdouble.js': 0,\n",
       "  'ts-jest': 12},\n",
       " 'PHP': {'behat': 4,\n",
       "  'codeception': 5,\n",
       "  'hamcrest-php': 0,\n",
       "  'mockery': 12,\n",
       "  'php-code-coverage': 4,\n",
       "  'phpspec': 8,\n",
       "  'phpunit': 80,\n",
       "  'phpunit-selenium': 0,\n",
       "  'test-pack': 0},\n",
       " 'Python': {'doctest': 0,\n",
       "  'hypothesis': 0,\n",
       "  'mock': 17,\n",
       "  'nose': 8,\n",
       "  'pytest': 14,\n",
       "  'tox': 10,\n",
       "  'unittest': 5},\n",
       " 'Ruby': {'Cucumber': 4, 'Shoulda': 0, 'Test::Unit': 0, 'rspec': 50},\n",
       " 'TypeScript': {'Appium': 0,\n",
       "  'Cypress': 0,\n",
       "  'Electron': 0,\n",
       "  'Gemini': 0,\n",
       "  'Happo': 0,\n",
       "  'Istanbul': 0,\n",
       "  'Nightwatch': 0,\n",
       "  'Percy': 0,\n",
       "  'PhantomJS': 0,\n",
       "  'Protractor': 0,\n",
       "  'Puppeteer': 0,\n",
       "  'Sinon.JS': 0,\n",
       "  'TestCafe': 0,\n",
       "  'Unexpected': 0,\n",
       "  'ava': 8,\n",
       "  'chai': 25,\n",
       "  'cucumber': 0,\n",
       "  'cypress': 0,\n",
       "  'enzyme': 14,\n",
       "  'enzyme-adapter-react-16': 12,\n",
       "  'enzyme-adapter-utils': 0,\n",
       "  'jest': 13,\n",
       "  'jest-cli': 0,\n",
       "  'jsdom': 9,\n",
       "  'json-server': 0,\n",
       "  'karma': 18,\n",
       "  'mocha': 20,\n",
       "  'nyc': 4,\n",
       "  'protractor': 12,\n",
       "  'react-testing-library': 0,\n",
       "  'selenium': 8,\n",
       "  'selenium-webdriver': 8,\n",
       "  'supertest': 0,\n",
       "  'tape': 0,\n",
       "  'testdouble.js': 0,\n",
       "  'ts-jest': 8}}"
      ]
     },
     "execution_count": 98,
     "metadata": {},
     "output_type": "execute_result"
    }
   ],
   "source": [
    "manager_package"
   ]
  },
  {
   "cell_type": "code",
   "execution_count": 13,
   "metadata": {},
   "outputs": [
    {
     "data": {
      "text/plain": [
       "{'C#': {'total': 13, 'yes': 7},\n",
       " 'Go': {'total': 33, 'yes': 16},\n",
       " 'Java': {'total': 38, 'yes': 21},\n",
       " 'JavaScript': {'total': 81, 'yes': 73},\n",
       " 'PHP': {'total': 21, 'yes': 19},\n",
       " 'Python': {'total': 52, 'yes': 16},\n",
       " 'Ruby': {'total': 23, 'yes': 17},\n",
       " 'TypeScript': {'total': 15, 'yes': 15}}"
      ]
     },
     "execution_count": 13,
     "metadata": {},
     "output_type": "execute_result"
    }
   ],
   "source": [
    "manager_file"
   ]
  },
  {
   "cell_type": "code",
   "execution_count": 99,
   "metadata": {
    "scrolled": true
   },
   "outputs": [
    {
     "ename": "KeyboardInterrupt",
     "evalue": "",
     "output_type": "error",
     "traceback": [
      "\u001b[0;31m---------------------------------------------------------------------------\u001b[0m",
      "\u001b[0;31mKeyboardInterrupt\u001b[0m                         Traceback (most recent call last)",
      "\u001b[0;32m<ipython-input-99-6ba1aaca2a0c>\u001b[0m in \u001b[0;36m<module>\u001b[0;34m()\u001b[0m\n\u001b[1;32m      1\u001b[0m \u001b[0;32mimport\u001b[0m \u001b[0mrequests\u001b[0m\u001b[0;34m\u001b[0m\u001b[0m\n\u001b[0;32m----> 2\u001b[0;31m \u001b[0mresponse\u001b[0m \u001b[0;34m=\u001b[0m \u001b[0mrequests\u001b[0m\u001b[0;34m.\u001b[0m\u001b[0mget\u001b[0m\u001b[0;34m(\u001b[0m\u001b[0;34m'https://raw.githubusercontent.com/octokit/octokit.rb/master/Gemfile'\u001b[0m\u001b[0;34m)\u001b[0m\u001b[0;34m\u001b[0m\u001b[0m\n\u001b[0m\u001b[1;32m      3\u001b[0m \u001b[0mresponse\u001b[0m\u001b[0;34m.\u001b[0m\u001b[0mencoding\u001b[0m \u001b[0;34m=\u001b[0m \u001b[0;34m'utf-8'\u001b[0m\u001b[0;34m\u001b[0m\u001b[0m\n\u001b[1;32m      4\u001b[0m \u001b[0mtexto\u001b[0m \u001b[0;34m=\u001b[0m \u001b[0mresponse\u001b[0m\u001b[0;34m.\u001b[0m\u001b[0mtext\u001b[0m\u001b[0;34m\u001b[0m\u001b[0m\n\u001b[1;32m      5\u001b[0m \u001b[0;32mprint\u001b[0m\u001b[0;34m(\u001b[0m\u001b[0mtexto\u001b[0m\u001b[0;34m)\u001b[0m\u001b[0;34m\u001b[0m\u001b[0m\n",
      "\u001b[0;32m/Users/cafer/.virtualenvs/gc/lib/python2.7/site-packages/requests/api.pyc\u001b[0m in \u001b[0;36mget\u001b[0;34m(url, params, **kwargs)\u001b[0m\n\u001b[1;32m     73\u001b[0m \u001b[0;34m\u001b[0m\u001b[0m\n\u001b[1;32m     74\u001b[0m     \u001b[0mkwargs\u001b[0m\u001b[0;34m.\u001b[0m\u001b[0msetdefault\u001b[0m\u001b[0;34m(\u001b[0m\u001b[0;34m'allow_redirects'\u001b[0m\u001b[0;34m,\u001b[0m \u001b[0mTrue\u001b[0m\u001b[0;34m)\u001b[0m\u001b[0;34m\u001b[0m\u001b[0m\n\u001b[0;32m---> 75\u001b[0;31m     \u001b[0;32mreturn\u001b[0m \u001b[0mrequest\u001b[0m\u001b[0;34m(\u001b[0m\u001b[0;34m'get'\u001b[0m\u001b[0;34m,\u001b[0m \u001b[0murl\u001b[0m\u001b[0;34m,\u001b[0m \u001b[0mparams\u001b[0m\u001b[0;34m=\u001b[0m\u001b[0mparams\u001b[0m\u001b[0;34m,\u001b[0m \u001b[0;34m**\u001b[0m\u001b[0mkwargs\u001b[0m\u001b[0;34m)\u001b[0m\u001b[0;34m\u001b[0m\u001b[0m\n\u001b[0m\u001b[1;32m     76\u001b[0m \u001b[0;34m\u001b[0m\u001b[0m\n\u001b[1;32m     77\u001b[0m \u001b[0;34m\u001b[0m\u001b[0m\n",
      "\u001b[0;32m/Users/cafer/.virtualenvs/gc/lib/python2.7/site-packages/requests/api.pyc\u001b[0m in \u001b[0;36mrequest\u001b[0;34m(method, url, **kwargs)\u001b[0m\n\u001b[1;32m     58\u001b[0m     \u001b[0;31m# cases, and look like a memory leak in others.\u001b[0m\u001b[0;34m\u001b[0m\u001b[0;34m\u001b[0m\u001b[0m\n\u001b[1;32m     59\u001b[0m     \u001b[0;32mwith\u001b[0m \u001b[0msessions\u001b[0m\u001b[0;34m.\u001b[0m\u001b[0mSession\u001b[0m\u001b[0;34m(\u001b[0m\u001b[0;34m)\u001b[0m \u001b[0;32mas\u001b[0m \u001b[0msession\u001b[0m\u001b[0;34m:\u001b[0m\u001b[0;34m\u001b[0m\u001b[0m\n\u001b[0;32m---> 60\u001b[0;31m         \u001b[0;32mreturn\u001b[0m \u001b[0msession\u001b[0m\u001b[0;34m.\u001b[0m\u001b[0mrequest\u001b[0m\u001b[0;34m(\u001b[0m\u001b[0mmethod\u001b[0m\u001b[0;34m=\u001b[0m\u001b[0mmethod\u001b[0m\u001b[0;34m,\u001b[0m \u001b[0murl\u001b[0m\u001b[0;34m=\u001b[0m\u001b[0murl\u001b[0m\u001b[0;34m,\u001b[0m \u001b[0;34m**\u001b[0m\u001b[0mkwargs\u001b[0m\u001b[0;34m)\u001b[0m\u001b[0;34m\u001b[0m\u001b[0m\n\u001b[0m\u001b[1;32m     61\u001b[0m \u001b[0;34m\u001b[0m\u001b[0m\n\u001b[1;32m     62\u001b[0m \u001b[0;34m\u001b[0m\u001b[0m\n",
      "\u001b[0;32m/Users/cafer/.virtualenvs/gc/lib/python2.7/site-packages/requests/sessions.pyc\u001b[0m in \u001b[0;36mrequest\u001b[0;34m(self, method, url, params, data, headers, cookies, files, auth, timeout, allow_redirects, proxies, hooks, stream, verify, cert, json)\u001b[0m\n\u001b[1;32m    531\u001b[0m         }\n\u001b[1;32m    532\u001b[0m         \u001b[0msend_kwargs\u001b[0m\u001b[0;34m.\u001b[0m\u001b[0mupdate\u001b[0m\u001b[0;34m(\u001b[0m\u001b[0msettings\u001b[0m\u001b[0;34m)\u001b[0m\u001b[0;34m\u001b[0m\u001b[0m\n\u001b[0;32m--> 533\u001b[0;31m         \u001b[0mresp\u001b[0m \u001b[0;34m=\u001b[0m \u001b[0mself\u001b[0m\u001b[0;34m.\u001b[0m\u001b[0msend\u001b[0m\u001b[0;34m(\u001b[0m\u001b[0mprep\u001b[0m\u001b[0;34m,\u001b[0m \u001b[0;34m**\u001b[0m\u001b[0msend_kwargs\u001b[0m\u001b[0;34m)\u001b[0m\u001b[0;34m\u001b[0m\u001b[0m\n\u001b[0m\u001b[1;32m    534\u001b[0m \u001b[0;34m\u001b[0m\u001b[0m\n\u001b[1;32m    535\u001b[0m         \u001b[0;32mreturn\u001b[0m \u001b[0mresp\u001b[0m\u001b[0;34m\u001b[0m\u001b[0m\n",
      "\u001b[0;32m/Users/cafer/.virtualenvs/gc/lib/python2.7/site-packages/requests/sessions.pyc\u001b[0m in \u001b[0;36msend\u001b[0;34m(self, request, **kwargs)\u001b[0m\n\u001b[1;32m    644\u001b[0m \u001b[0;34m\u001b[0m\u001b[0m\n\u001b[1;32m    645\u001b[0m         \u001b[0;31m# Send the request\u001b[0m\u001b[0;34m\u001b[0m\u001b[0;34m\u001b[0m\u001b[0m\n\u001b[0;32m--> 646\u001b[0;31m         \u001b[0mr\u001b[0m \u001b[0;34m=\u001b[0m \u001b[0madapter\u001b[0m\u001b[0;34m.\u001b[0m\u001b[0msend\u001b[0m\u001b[0;34m(\u001b[0m\u001b[0mrequest\u001b[0m\u001b[0;34m,\u001b[0m \u001b[0;34m**\u001b[0m\u001b[0mkwargs\u001b[0m\u001b[0;34m)\u001b[0m\u001b[0;34m\u001b[0m\u001b[0m\n\u001b[0m\u001b[1;32m    647\u001b[0m \u001b[0;34m\u001b[0m\u001b[0m\n\u001b[1;32m    648\u001b[0m         \u001b[0;31m# Total elapsed time of the request (approximately)\u001b[0m\u001b[0;34m\u001b[0m\u001b[0;34m\u001b[0m\u001b[0m\n",
      "\u001b[0;32m/Users/cafer/.virtualenvs/gc/lib/python2.7/site-packages/requests/adapters.pyc\u001b[0m in \u001b[0;36msend\u001b[0;34m(self, request, stream, timeout, verify, cert, proxies)\u001b[0m\n\u001b[1;32m    447\u001b[0m                     \u001b[0mdecode_content\u001b[0m\u001b[0;34m=\u001b[0m\u001b[0mFalse\u001b[0m\u001b[0;34m,\u001b[0m\u001b[0;34m\u001b[0m\u001b[0m\n\u001b[1;32m    448\u001b[0m                     \u001b[0mretries\u001b[0m\u001b[0;34m=\u001b[0m\u001b[0mself\u001b[0m\u001b[0;34m.\u001b[0m\u001b[0mmax_retries\u001b[0m\u001b[0;34m,\u001b[0m\u001b[0;34m\u001b[0m\u001b[0m\n\u001b[0;32m--> 449\u001b[0;31m                     \u001b[0mtimeout\u001b[0m\u001b[0;34m=\u001b[0m\u001b[0mtimeout\u001b[0m\u001b[0;34m\u001b[0m\u001b[0m\n\u001b[0m\u001b[1;32m    450\u001b[0m                 )\n\u001b[1;32m    451\u001b[0m \u001b[0;34m\u001b[0m\u001b[0m\n",
      "\u001b[0;32m/Users/cafer/.virtualenvs/gc/lib/python2.7/site-packages/urllib3/connectionpool.pyc\u001b[0m in \u001b[0;36murlopen\u001b[0;34m(self, method, url, body, headers, retries, redirect, assert_same_host, timeout, pool_timeout, release_conn, chunked, body_pos, **response_kw)\u001b[0m\n\u001b[1;32m    601\u001b[0m                                                   \u001b[0mtimeout\u001b[0m\u001b[0;34m=\u001b[0m\u001b[0mtimeout_obj\u001b[0m\u001b[0;34m,\u001b[0m\u001b[0;34m\u001b[0m\u001b[0m\n\u001b[1;32m    602\u001b[0m                                                   \u001b[0mbody\u001b[0m\u001b[0;34m=\u001b[0m\u001b[0mbody\u001b[0m\u001b[0;34m,\u001b[0m \u001b[0mheaders\u001b[0m\u001b[0;34m=\u001b[0m\u001b[0mheaders\u001b[0m\u001b[0;34m,\u001b[0m\u001b[0;34m\u001b[0m\u001b[0m\n\u001b[0;32m--> 603\u001b[0;31m                                                   chunked=chunked)\n\u001b[0m\u001b[1;32m    604\u001b[0m \u001b[0;34m\u001b[0m\u001b[0m\n\u001b[1;32m    605\u001b[0m             \u001b[0;31m# If we're going to release the connection in ``finally:``, then\u001b[0m\u001b[0;34m\u001b[0m\u001b[0;34m\u001b[0m\u001b[0m\n",
      "\u001b[0;32m/Users/cafer/.virtualenvs/gc/lib/python2.7/site-packages/urllib3/connectionpool.pyc\u001b[0m in \u001b[0;36m_make_request\u001b[0;34m(self, conn, method, url, timeout, chunked, **httplib_request_kw)\u001b[0m\n\u001b[1;32m    342\u001b[0m         \u001b[0;31m# Trigger any extra validation we need to do.\u001b[0m\u001b[0;34m\u001b[0m\u001b[0;34m\u001b[0m\u001b[0m\n\u001b[1;32m    343\u001b[0m         \u001b[0;32mtry\u001b[0m\u001b[0;34m:\u001b[0m\u001b[0;34m\u001b[0m\u001b[0m\n\u001b[0;32m--> 344\u001b[0;31m             \u001b[0mself\u001b[0m\u001b[0;34m.\u001b[0m\u001b[0m_validate_conn\u001b[0m\u001b[0;34m(\u001b[0m\u001b[0mconn\u001b[0m\u001b[0;34m)\u001b[0m\u001b[0;34m\u001b[0m\u001b[0m\n\u001b[0m\u001b[1;32m    345\u001b[0m         \u001b[0;32mexcept\u001b[0m \u001b[0;34m(\u001b[0m\u001b[0mSocketTimeout\u001b[0m\u001b[0;34m,\u001b[0m \u001b[0mBaseSSLError\u001b[0m\u001b[0;34m)\u001b[0m \u001b[0;32mas\u001b[0m \u001b[0me\u001b[0m\u001b[0;34m:\u001b[0m\u001b[0;34m\u001b[0m\u001b[0m\n\u001b[1;32m    346\u001b[0m             \u001b[0;31m# Py2 raises this as a BaseSSLError, Py3 raises it as socket timeout.\u001b[0m\u001b[0;34m\u001b[0m\u001b[0;34m\u001b[0m\u001b[0m\n",
      "\u001b[0;32m/Users/cafer/.virtualenvs/gc/lib/python2.7/site-packages/urllib3/connectionpool.pyc\u001b[0m in \u001b[0;36m_validate_conn\u001b[0;34m(self, conn)\u001b[0m\n\u001b[1;32m    841\u001b[0m         \u001b[0;31m# Force connect early to allow us to validate the connection.\u001b[0m\u001b[0;34m\u001b[0m\u001b[0;34m\u001b[0m\u001b[0m\n\u001b[1;32m    842\u001b[0m         \u001b[0;32mif\u001b[0m \u001b[0;32mnot\u001b[0m \u001b[0mgetattr\u001b[0m\u001b[0;34m(\u001b[0m\u001b[0mconn\u001b[0m\u001b[0;34m,\u001b[0m \u001b[0;34m'sock'\u001b[0m\u001b[0;34m,\u001b[0m \u001b[0mNone\u001b[0m\u001b[0;34m)\u001b[0m\u001b[0;34m:\u001b[0m  \u001b[0;31m# AppEngine might not have  `.sock`\u001b[0m\u001b[0;34m\u001b[0m\u001b[0m\n\u001b[0;32m--> 843\u001b[0;31m             \u001b[0mconn\u001b[0m\u001b[0;34m.\u001b[0m\u001b[0mconnect\u001b[0m\u001b[0;34m(\u001b[0m\u001b[0;34m)\u001b[0m\u001b[0;34m\u001b[0m\u001b[0m\n\u001b[0m\u001b[1;32m    844\u001b[0m \u001b[0;34m\u001b[0m\u001b[0m\n\u001b[1;32m    845\u001b[0m         \u001b[0;32mif\u001b[0m \u001b[0;32mnot\u001b[0m \u001b[0mconn\u001b[0m\u001b[0;34m.\u001b[0m\u001b[0mis_verified\u001b[0m\u001b[0;34m:\u001b[0m\u001b[0;34m\u001b[0m\u001b[0m\n",
      "\u001b[0;32m/Users/cafer/.virtualenvs/gc/lib/python2.7/site-packages/urllib3/connection.pyc\u001b[0m in \u001b[0;36mconnect\u001b[0;34m(self)\u001b[0m\n\u001b[1;32m    303\u001b[0m     \u001b[0;32mdef\u001b[0m \u001b[0mconnect\u001b[0m\u001b[0;34m(\u001b[0m\u001b[0mself\u001b[0m\u001b[0;34m)\u001b[0m\u001b[0;34m:\u001b[0m\u001b[0;34m\u001b[0m\u001b[0m\n\u001b[1;32m    304\u001b[0m         \u001b[0;31m# Add certificate verification\u001b[0m\u001b[0;34m\u001b[0m\u001b[0;34m\u001b[0m\u001b[0m\n\u001b[0;32m--> 305\u001b[0;31m         \u001b[0mconn\u001b[0m \u001b[0;34m=\u001b[0m \u001b[0mself\u001b[0m\u001b[0;34m.\u001b[0m\u001b[0m_new_conn\u001b[0m\u001b[0;34m(\u001b[0m\u001b[0;34m)\u001b[0m\u001b[0;34m\u001b[0m\u001b[0m\n\u001b[0m\u001b[1;32m    306\u001b[0m         \u001b[0mhostname\u001b[0m \u001b[0;34m=\u001b[0m \u001b[0mself\u001b[0m\u001b[0;34m.\u001b[0m\u001b[0mhost\u001b[0m\u001b[0;34m\u001b[0m\u001b[0m\n\u001b[1;32m    307\u001b[0m \u001b[0;34m\u001b[0m\u001b[0m\n",
      "\u001b[0;32m/Users/cafer/.virtualenvs/gc/lib/python2.7/site-packages/urllib3/connection.pyc\u001b[0m in \u001b[0;36m_new_conn\u001b[0;34m(self)\u001b[0m\n\u001b[1;32m    158\u001b[0m         \u001b[0;32mtry\u001b[0m\u001b[0;34m:\u001b[0m\u001b[0;34m\u001b[0m\u001b[0m\n\u001b[1;32m    159\u001b[0m             conn = connection.create_connection(\n\u001b[0;32m--> 160\u001b[0;31m                 (self._dns_host, self.port), self.timeout, **extra_kw)\n\u001b[0m\u001b[1;32m    161\u001b[0m \u001b[0;34m\u001b[0m\u001b[0m\n\u001b[1;32m    162\u001b[0m         \u001b[0;32mexcept\u001b[0m \u001b[0mSocketTimeout\u001b[0m\u001b[0;34m:\u001b[0m\u001b[0;34m\u001b[0m\u001b[0m\n",
      "\u001b[0;32m/Users/cafer/.virtualenvs/gc/lib/python2.7/site-packages/urllib3/util/connection.pyc\u001b[0m in \u001b[0;36mcreate_connection\u001b[0;34m(address, timeout, source_address, socket_options)\u001b[0m\n\u001b[1;32m     68\u001b[0m             \u001b[0;32mif\u001b[0m \u001b[0msource_address\u001b[0m\u001b[0;34m:\u001b[0m\u001b[0;34m\u001b[0m\u001b[0m\n\u001b[1;32m     69\u001b[0m                 \u001b[0msock\u001b[0m\u001b[0;34m.\u001b[0m\u001b[0mbind\u001b[0m\u001b[0;34m(\u001b[0m\u001b[0msource_address\u001b[0m\u001b[0;34m)\u001b[0m\u001b[0;34m\u001b[0m\u001b[0m\n\u001b[0;32m---> 70\u001b[0;31m             \u001b[0msock\u001b[0m\u001b[0;34m.\u001b[0m\u001b[0mconnect\u001b[0m\u001b[0;34m(\u001b[0m\u001b[0msa\u001b[0m\u001b[0;34m)\u001b[0m\u001b[0;34m\u001b[0m\u001b[0m\n\u001b[0m\u001b[1;32m     71\u001b[0m             \u001b[0;32mreturn\u001b[0m \u001b[0msock\u001b[0m\u001b[0;34m\u001b[0m\u001b[0m\n\u001b[1;32m     72\u001b[0m \u001b[0;34m\u001b[0m\u001b[0m\n",
      "\u001b[0;32m/System/Library/Frameworks/Python.framework/Versions/2.7/lib/python2.7/socket.pyc\u001b[0m in \u001b[0;36mmeth\u001b[0;34m(name, self, *args)\u001b[0m\n\u001b[1;32m    226\u001b[0m \u001b[0;34m\u001b[0m\u001b[0m\n\u001b[1;32m    227\u001b[0m \u001b[0;32mdef\u001b[0m \u001b[0mmeth\u001b[0m\u001b[0;34m(\u001b[0m\u001b[0mname\u001b[0m\u001b[0;34m,\u001b[0m\u001b[0mself\u001b[0m\u001b[0;34m,\u001b[0m\u001b[0;34m*\u001b[0m\u001b[0margs\u001b[0m\u001b[0;34m)\u001b[0m\u001b[0;34m:\u001b[0m\u001b[0;34m\u001b[0m\u001b[0m\n\u001b[0;32m--> 228\u001b[0;31m     \u001b[0;32mreturn\u001b[0m \u001b[0mgetattr\u001b[0m\u001b[0;34m(\u001b[0m\u001b[0mself\u001b[0m\u001b[0;34m.\u001b[0m\u001b[0m_sock\u001b[0m\u001b[0;34m,\u001b[0m\u001b[0mname\u001b[0m\u001b[0;34m)\u001b[0m\u001b[0;34m(\u001b[0m\u001b[0;34m*\u001b[0m\u001b[0margs\u001b[0m\u001b[0;34m)\u001b[0m\u001b[0;34m\u001b[0m\u001b[0m\n\u001b[0m\u001b[1;32m    229\u001b[0m \u001b[0;34m\u001b[0m\u001b[0m\n\u001b[1;32m    230\u001b[0m \u001b[0;32mfor\u001b[0m \u001b[0m_m\u001b[0m \u001b[0;32min\u001b[0m \u001b[0m_socketmethods\u001b[0m\u001b[0;34m:\u001b[0m\u001b[0;34m\u001b[0m\u001b[0m\n",
      "\u001b[0;31mKeyboardInterrupt\u001b[0m: "
     ]
    }
   ],
   "source": [
    "import requests\n",
    "response = requests.get('https://raw.githubusercontent.com/octokit/octokit.rb/master/Gemfile')\n",
    "response.encoding = 'utf-8'\n",
    "texto = response.text\n",
    "print(texto)\n",
    "print(texto.count(\"gemspec\"))\n",
    "#file_response = open(\"dataset/manager_file/teste.txt\",\"w+\")\n",
    "#file_response.write(texto, \"w+\")\n",
    "#file_response.close()\n"
   ]
  },
  {
   "cell_type": "code",
   "execution_count": 100,
   "metadata": {},
   "outputs": [
    {
     "ename": "IOError",
     "evalue": "[Errno 2] File miner_test.csv does not exist: 'miner_test.csv'",
     "output_type": "error",
     "traceback": [
      "\u001b[0;31m---------------------------------------------------------------------------\u001b[0m",
      "\u001b[0;31mIOError\u001b[0m                                   Traceback (most recent call last)",
      "\u001b[0;32m<ipython-input-100-2c964c32783c>\u001b[0m in \u001b[0;36m<module>\u001b[0;34m()\u001b[0m\n\u001b[0;32m----> 1\u001b[0;31m \u001b[0mfi\u001b[0m \u001b[0;34m=\u001b[0m \u001b[0mpd\u001b[0m\u001b[0;34m.\u001b[0m\u001b[0mread_csv\u001b[0m\u001b[0;34m(\u001b[0m\u001b[0;34m\"miner_test.csv\"\u001b[0m\u001b[0;34m,\u001b[0m \u001b[0;34m\"r\"\u001b[0m\u001b[0;34m)\u001b[0m\u001b[0;34m\u001b[0m\u001b[0m\n\u001b[0m\u001b[1;32m      2\u001b[0m \u001b[0mfi\u001b[0m\u001b[0;34m.\u001b[0m\u001b[0mhead\u001b[0m\u001b[0;34m(\u001b[0m\u001b[0;34m)\u001b[0m\u001b[0;34m\u001b[0m\u001b[0m\n\u001b[1;32m      3\u001b[0m \u001b[0;34m\u001b[0m\u001b[0m\n",
      "\u001b[0;32m/Users/cafer/.virtualenvs/gc/lib/python2.7/site-packages/pandas/io/parsers.pyc\u001b[0m in \u001b[0;36mparser_f\u001b[0;34m(filepath_or_buffer, sep, delimiter, header, names, index_col, usecols, squeeze, prefix, mangle_dupe_cols, dtype, engine, converters, true_values, false_values, skipinitialspace, skiprows, skipfooter, nrows, na_values, keep_default_na, na_filter, verbose, skip_blank_lines, parse_dates, infer_datetime_format, keep_date_col, date_parser, dayfirst, iterator, chunksize, compression, thousands, decimal, lineterminator, quotechar, quoting, doublequote, escapechar, comment, encoding, dialect, tupleize_cols, error_bad_lines, warn_bad_lines, delim_whitespace, low_memory, memory_map, float_precision)\u001b[0m\n\u001b[1;32m    700\u001b[0m                     skip_blank_lines=skip_blank_lines)\n\u001b[1;32m    701\u001b[0m \u001b[0;34m\u001b[0m\u001b[0m\n\u001b[0;32m--> 702\u001b[0;31m         \u001b[0;32mreturn\u001b[0m \u001b[0m_read\u001b[0m\u001b[0;34m(\u001b[0m\u001b[0mfilepath_or_buffer\u001b[0m\u001b[0;34m,\u001b[0m \u001b[0mkwds\u001b[0m\u001b[0;34m)\u001b[0m\u001b[0;34m\u001b[0m\u001b[0m\n\u001b[0m\u001b[1;32m    703\u001b[0m \u001b[0;34m\u001b[0m\u001b[0m\n\u001b[1;32m    704\u001b[0m     \u001b[0mparser_f\u001b[0m\u001b[0;34m.\u001b[0m\u001b[0m__name__\u001b[0m \u001b[0;34m=\u001b[0m \u001b[0mname\u001b[0m\u001b[0;34m\u001b[0m\u001b[0m\n",
      "\u001b[0;32m/Users/cafer/.virtualenvs/gc/lib/python2.7/site-packages/pandas/io/parsers.pyc\u001b[0m in \u001b[0;36m_read\u001b[0;34m(filepath_or_buffer, kwds)\u001b[0m\n\u001b[1;32m    427\u001b[0m \u001b[0;34m\u001b[0m\u001b[0m\n\u001b[1;32m    428\u001b[0m     \u001b[0;31m# Create the parser.\u001b[0m\u001b[0;34m\u001b[0m\u001b[0;34m\u001b[0m\u001b[0m\n\u001b[0;32m--> 429\u001b[0;31m     \u001b[0mparser\u001b[0m \u001b[0;34m=\u001b[0m \u001b[0mTextFileReader\u001b[0m\u001b[0;34m(\u001b[0m\u001b[0mfilepath_or_buffer\u001b[0m\u001b[0;34m,\u001b[0m \u001b[0;34m**\u001b[0m\u001b[0mkwds\u001b[0m\u001b[0;34m)\u001b[0m\u001b[0;34m\u001b[0m\u001b[0m\n\u001b[0m\u001b[1;32m    430\u001b[0m \u001b[0;34m\u001b[0m\u001b[0m\n\u001b[1;32m    431\u001b[0m     \u001b[0;32mif\u001b[0m \u001b[0mchunksize\u001b[0m \u001b[0;32mor\u001b[0m \u001b[0miterator\u001b[0m\u001b[0;34m:\u001b[0m\u001b[0;34m\u001b[0m\u001b[0m\n",
      "\u001b[0;32m/Users/cafer/.virtualenvs/gc/lib/python2.7/site-packages/pandas/io/parsers.pyc\u001b[0m in \u001b[0;36m__init__\u001b[0;34m(self, f, engine, **kwds)\u001b[0m\n\u001b[1;32m    893\u001b[0m             \u001b[0mself\u001b[0m\u001b[0;34m.\u001b[0m\u001b[0moptions\u001b[0m\u001b[0;34m[\u001b[0m\u001b[0;34m'has_index_names'\u001b[0m\u001b[0;34m]\u001b[0m \u001b[0;34m=\u001b[0m \u001b[0mkwds\u001b[0m\u001b[0;34m[\u001b[0m\u001b[0;34m'has_index_names'\u001b[0m\u001b[0;34m]\u001b[0m\u001b[0;34m\u001b[0m\u001b[0m\n\u001b[1;32m    894\u001b[0m \u001b[0;34m\u001b[0m\u001b[0m\n\u001b[0;32m--> 895\u001b[0;31m         \u001b[0mself\u001b[0m\u001b[0;34m.\u001b[0m\u001b[0m_make_engine\u001b[0m\u001b[0;34m(\u001b[0m\u001b[0mself\u001b[0m\u001b[0;34m.\u001b[0m\u001b[0mengine\u001b[0m\u001b[0;34m)\u001b[0m\u001b[0;34m\u001b[0m\u001b[0m\n\u001b[0m\u001b[1;32m    896\u001b[0m \u001b[0;34m\u001b[0m\u001b[0m\n\u001b[1;32m    897\u001b[0m     \u001b[0;32mdef\u001b[0m \u001b[0mclose\u001b[0m\u001b[0;34m(\u001b[0m\u001b[0mself\u001b[0m\u001b[0;34m)\u001b[0m\u001b[0;34m:\u001b[0m\u001b[0;34m\u001b[0m\u001b[0m\n",
      "\u001b[0;32m/Users/cafer/.virtualenvs/gc/lib/python2.7/site-packages/pandas/io/parsers.pyc\u001b[0m in \u001b[0;36m_make_engine\u001b[0;34m(self, engine)\u001b[0m\n\u001b[1;32m   1120\u001b[0m     \u001b[0;32mdef\u001b[0m \u001b[0m_make_engine\u001b[0m\u001b[0;34m(\u001b[0m\u001b[0mself\u001b[0m\u001b[0;34m,\u001b[0m \u001b[0mengine\u001b[0m\u001b[0;34m=\u001b[0m\u001b[0;34m'c'\u001b[0m\u001b[0;34m)\u001b[0m\u001b[0;34m:\u001b[0m\u001b[0;34m\u001b[0m\u001b[0m\n\u001b[1;32m   1121\u001b[0m         \u001b[0;32mif\u001b[0m \u001b[0mengine\u001b[0m \u001b[0;34m==\u001b[0m \u001b[0;34m'c'\u001b[0m\u001b[0;34m:\u001b[0m\u001b[0;34m\u001b[0m\u001b[0m\n\u001b[0;32m-> 1122\u001b[0;31m             \u001b[0mself\u001b[0m\u001b[0;34m.\u001b[0m\u001b[0m_engine\u001b[0m \u001b[0;34m=\u001b[0m \u001b[0mCParserWrapper\u001b[0m\u001b[0;34m(\u001b[0m\u001b[0mself\u001b[0m\u001b[0;34m.\u001b[0m\u001b[0mf\u001b[0m\u001b[0;34m,\u001b[0m \u001b[0;34m**\u001b[0m\u001b[0mself\u001b[0m\u001b[0;34m.\u001b[0m\u001b[0moptions\u001b[0m\u001b[0;34m)\u001b[0m\u001b[0;34m\u001b[0m\u001b[0m\n\u001b[0m\u001b[1;32m   1123\u001b[0m         \u001b[0;32melse\u001b[0m\u001b[0;34m:\u001b[0m\u001b[0;34m\u001b[0m\u001b[0m\n\u001b[1;32m   1124\u001b[0m             \u001b[0;32mif\u001b[0m \u001b[0mengine\u001b[0m \u001b[0;34m==\u001b[0m \u001b[0;34m'python'\u001b[0m\u001b[0;34m:\u001b[0m\u001b[0;34m\u001b[0m\u001b[0m\n",
      "\u001b[0;32m/Users/cafer/.virtualenvs/gc/lib/python2.7/site-packages/pandas/io/parsers.pyc\u001b[0m in \u001b[0;36m__init__\u001b[0;34m(self, src, **kwds)\u001b[0m\n\u001b[1;32m   1851\u001b[0m         \u001b[0mkwds\u001b[0m\u001b[0;34m[\u001b[0m\u001b[0;34m'usecols'\u001b[0m\u001b[0;34m]\u001b[0m \u001b[0;34m=\u001b[0m \u001b[0mself\u001b[0m\u001b[0;34m.\u001b[0m\u001b[0musecols\u001b[0m\u001b[0;34m\u001b[0m\u001b[0m\n\u001b[1;32m   1852\u001b[0m \u001b[0;34m\u001b[0m\u001b[0m\n\u001b[0;32m-> 1853\u001b[0;31m         \u001b[0mself\u001b[0m\u001b[0;34m.\u001b[0m\u001b[0m_reader\u001b[0m \u001b[0;34m=\u001b[0m \u001b[0mparsers\u001b[0m\u001b[0;34m.\u001b[0m\u001b[0mTextReader\u001b[0m\u001b[0;34m(\u001b[0m\u001b[0msrc\u001b[0m\u001b[0;34m,\u001b[0m \u001b[0;34m**\u001b[0m\u001b[0mkwds\u001b[0m\u001b[0;34m)\u001b[0m\u001b[0;34m\u001b[0m\u001b[0m\n\u001b[0m\u001b[1;32m   1854\u001b[0m         \u001b[0mself\u001b[0m\u001b[0;34m.\u001b[0m\u001b[0munnamed_cols\u001b[0m \u001b[0;34m=\u001b[0m \u001b[0mself\u001b[0m\u001b[0;34m.\u001b[0m\u001b[0m_reader\u001b[0m\u001b[0;34m.\u001b[0m\u001b[0munnamed_cols\u001b[0m\u001b[0;34m\u001b[0m\u001b[0m\n\u001b[1;32m   1855\u001b[0m \u001b[0;34m\u001b[0m\u001b[0m\n",
      "\u001b[0;32mpandas/_libs/parsers.pyx\u001b[0m in \u001b[0;36mpandas._libs.parsers.TextReader.__cinit__\u001b[0;34m()\u001b[0m\n",
      "\u001b[0;32mpandas/_libs/parsers.pyx\u001b[0m in \u001b[0;36mpandas._libs.parsers.TextReader._setup_parser_source\u001b[0;34m()\u001b[0m\n",
      "\u001b[0;31mIOError\u001b[0m: [Errno 2] File miner_test.csv does not exist: 'miner_test.csv'"
     ]
    }
   ],
   "source": []
  },
  {
   "cell_type": "code",
   "execution_count": null,
   "metadata": {},
   "outputs": [],
   "source": []
  }
 ],
 "metadata": {
  "kernelspec": {
   "display_name": "Python 3",
   "language": "python",
   "name": "python3"
  },
  "language_info": {
   "codemirror_mode": {
    "name": "ipython",
    "version": 3
   },
   "file_extension": ".py",
   "mimetype": "text/x-python",
   "name": "python",
   "nbconvert_exporter": "python",
   "pygments_lexer": "ipython3",
   "version": "3.7.3"
  }
 },
 "nbformat": 4,
 "nbformat_minor": 2
}
