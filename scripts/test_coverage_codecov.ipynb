{
 "cells": [
  {
   "cell_type": "markdown",
   "metadata": {},
   "source": [
    "Setting PyGithub"
   ]
  },
  {
   "cell_type": "code",
   "execution_count": 1,
   "metadata": {},
   "outputs": [],
   "source": [
    "from github import Github\n",
    "\n",
    "g = Github(\"your token\")"
   ]
  },
  {
   "cell_type": "code",
   "execution_count": 7,
   "metadata": {},
   "outputs": [],
   "source": [
    "languages = [\"JavaScript\", \"Python\", \"Go\", \"Java\", \"C#\", \"C++\", \"C\", \"TypeScript\", \"Ruby\", \"PHP\"]"
   ]
  },
  {
   "cell_type": "raw",
   "metadata": {},
   "source": [
    "Filtering repositories with more than 5 thousand stars"
   ]
  },
  {
   "cell_type": "code",
   "execution_count": 2,
   "metadata": {},
   "outputs": [
    {
     "data": {
      "text/plain": [
       "1000"
      ]
     },
     "execution_count": 2,
     "metadata": {},
     "output_type": "execute_result"
    }
   ],
   "source": [
    "popular_repos = g.search_repositories(\"stars:>5000\")\n",
    "popular_repos.totalCount"
   ]
  },
  {
   "cell_type": "code",
   "execution_count": 3,
   "metadata": {
    "scrolled": true
   },
   "outputs": [
    {
     "ename": "RateLimitExceededException",
     "evalue": "403 {'message': 'API rate limit exceeded for user ID 5610771.', 'documentation_url': 'https://developer.github.com/v3/#rate-limiting'}",
     "output_type": "error",
     "traceback": [
      "\u001b[0;31m---------------------------------------------------------------------------\u001b[0m",
      "\u001b[0;31mRateLimitExceededException\u001b[0m                Traceback (most recent call last)",
      "\u001b[0;32m<ipython-input-3-972ffd3a55bd>\u001b[0m in \u001b[0;36m<module>\u001b[0;34m\u001b[0m\n\u001b[1;32m      1\u001b[0m \u001b[0;34m\u001b[0m\u001b[0m\n\u001b[0;32m----> 2\u001b[0;31m \u001b[0mprint\u001b[0m\u001b[0;34m(\u001b[0m\u001b[0mlen\u001b[0m\u001b[0;34m(\u001b[0m\u001b[0mlist\u001b[0m\u001b[0;34m(\u001b[0m\u001b[0mpopular_repos\u001b[0m\u001b[0;34m)\u001b[0m\u001b[0;34m)\u001b[0m\u001b[0;34m)\u001b[0m\u001b[0;34m\u001b[0m\u001b[0;34m\u001b[0m\u001b[0m\n\u001b[0m",
      "\u001b[0;32m~/anaconda3/lib/python3.7/site-packages/github/PaginatedList.py\u001b[0m in \u001b[0;36m__iter__\u001b[0;34m(self)\u001b[0m\n\u001b[1;32m     62\u001b[0m             \u001b[0;32myield\u001b[0m \u001b[0melement\u001b[0m\u001b[0;34m\u001b[0m\u001b[0;34m\u001b[0m\u001b[0m\n\u001b[1;32m     63\u001b[0m         \u001b[0;32mwhile\u001b[0m \u001b[0mself\u001b[0m\u001b[0;34m.\u001b[0m\u001b[0m_couldGrow\u001b[0m\u001b[0;34m(\u001b[0m\u001b[0;34m)\u001b[0m\u001b[0;34m:\u001b[0m\u001b[0;34m\u001b[0m\u001b[0;34m\u001b[0m\u001b[0m\n\u001b[0;32m---> 64\u001b[0;31m             \u001b[0mnewElements\u001b[0m \u001b[0;34m=\u001b[0m \u001b[0mself\u001b[0m\u001b[0;34m.\u001b[0m\u001b[0m_grow\u001b[0m\u001b[0;34m(\u001b[0m\u001b[0;34m)\u001b[0m\u001b[0;34m\u001b[0m\u001b[0;34m\u001b[0m\u001b[0m\n\u001b[0m\u001b[1;32m     65\u001b[0m             \u001b[0;32mfor\u001b[0m \u001b[0melement\u001b[0m \u001b[0;32min\u001b[0m \u001b[0mnewElements\u001b[0m\u001b[0;34m:\u001b[0m\u001b[0;34m\u001b[0m\u001b[0;34m\u001b[0m\u001b[0m\n\u001b[1;32m     66\u001b[0m                 \u001b[0;32myield\u001b[0m \u001b[0melement\u001b[0m\u001b[0;34m\u001b[0m\u001b[0;34m\u001b[0m\u001b[0m\n",
      "\u001b[0;32m~/anaconda3/lib/python3.7/site-packages/github/PaginatedList.py\u001b[0m in \u001b[0;36m_grow\u001b[0;34m(self)\u001b[0m\n\u001b[1;32m     74\u001b[0m \u001b[0;34m\u001b[0m\u001b[0m\n\u001b[1;32m     75\u001b[0m     \u001b[0;32mdef\u001b[0m \u001b[0m_grow\u001b[0m\u001b[0;34m(\u001b[0m\u001b[0mself\u001b[0m\u001b[0;34m)\u001b[0m\u001b[0;34m:\u001b[0m\u001b[0;34m\u001b[0m\u001b[0;34m\u001b[0m\u001b[0m\n\u001b[0;32m---> 76\u001b[0;31m         \u001b[0mnewElements\u001b[0m \u001b[0;34m=\u001b[0m \u001b[0mself\u001b[0m\u001b[0;34m.\u001b[0m\u001b[0m_fetchNextPage\u001b[0m\u001b[0;34m(\u001b[0m\u001b[0;34m)\u001b[0m\u001b[0;34m\u001b[0m\u001b[0;34m\u001b[0m\u001b[0m\n\u001b[0m\u001b[1;32m     77\u001b[0m         \u001b[0mself\u001b[0m\u001b[0;34m.\u001b[0m\u001b[0m__elements\u001b[0m \u001b[0;34m+=\u001b[0m \u001b[0mnewElements\u001b[0m\u001b[0;34m\u001b[0m\u001b[0;34m\u001b[0m\u001b[0m\n\u001b[1;32m     78\u001b[0m         \u001b[0;32mreturn\u001b[0m \u001b[0mnewElements\u001b[0m\u001b[0;34m\u001b[0m\u001b[0;34m\u001b[0m\u001b[0m\n",
      "\u001b[0;32m~/anaconda3/lib/python3.7/site-packages/github/PaginatedList.py\u001b[0m in \u001b[0;36m_fetchNextPage\u001b[0;34m(self)\u001b[0m\n\u001b[1;32m    199\u001b[0m             \u001b[0mself\u001b[0m\u001b[0;34m.\u001b[0m\u001b[0m__nextUrl\u001b[0m\u001b[0;34m,\u001b[0m\u001b[0;34m\u001b[0m\u001b[0;34m\u001b[0m\u001b[0m\n\u001b[1;32m    200\u001b[0m             \u001b[0mparameters\u001b[0m\u001b[0;34m=\u001b[0m\u001b[0mself\u001b[0m\u001b[0;34m.\u001b[0m\u001b[0m__nextParams\u001b[0m\u001b[0;34m,\u001b[0m\u001b[0;34m\u001b[0m\u001b[0;34m\u001b[0m\u001b[0m\n\u001b[0;32m--> 201\u001b[0;31m             \u001b[0mheaders\u001b[0m\u001b[0;34m=\u001b[0m\u001b[0mself\u001b[0m\u001b[0;34m.\u001b[0m\u001b[0m__headers\u001b[0m\u001b[0;34m\u001b[0m\u001b[0;34m\u001b[0m\u001b[0m\n\u001b[0m\u001b[1;32m    202\u001b[0m         )\n\u001b[1;32m    203\u001b[0m         \u001b[0mdata\u001b[0m \u001b[0;34m=\u001b[0m \u001b[0mdata\u001b[0m \u001b[0;32mif\u001b[0m \u001b[0mdata\u001b[0m \u001b[0;32melse\u001b[0m \u001b[0;34m[\u001b[0m\u001b[0;34m]\u001b[0m\u001b[0;34m\u001b[0m\u001b[0;34m\u001b[0m\u001b[0m\n",
      "\u001b[0;32m~/anaconda3/lib/python3.7/site-packages/github/Requester.py\u001b[0m in \u001b[0;36mrequestJsonAndCheck\u001b[0;34m(self, verb, url, parameters, headers, input)\u001b[0m\n\u001b[1;32m    273\u001b[0m \u001b[0;34m\u001b[0m\u001b[0m\n\u001b[1;32m    274\u001b[0m     \u001b[0;32mdef\u001b[0m \u001b[0mrequestJsonAndCheck\u001b[0m\u001b[0;34m(\u001b[0m\u001b[0mself\u001b[0m\u001b[0;34m,\u001b[0m \u001b[0mverb\u001b[0m\u001b[0;34m,\u001b[0m \u001b[0murl\u001b[0m\u001b[0;34m,\u001b[0m \u001b[0mparameters\u001b[0m\u001b[0;34m=\u001b[0m\u001b[0;32mNone\u001b[0m\u001b[0;34m,\u001b[0m \u001b[0mheaders\u001b[0m\u001b[0;34m=\u001b[0m\u001b[0;32mNone\u001b[0m\u001b[0;34m,\u001b[0m \u001b[0minput\u001b[0m\u001b[0;34m=\u001b[0m\u001b[0;32mNone\u001b[0m\u001b[0;34m)\u001b[0m\u001b[0;34m:\u001b[0m\u001b[0;34m\u001b[0m\u001b[0;34m\u001b[0m\u001b[0m\n\u001b[0;32m--> 275\u001b[0;31m         \u001b[0;32mreturn\u001b[0m \u001b[0mself\u001b[0m\u001b[0;34m.\u001b[0m\u001b[0m__check\u001b[0m\u001b[0;34m(\u001b[0m\u001b[0;34m*\u001b[0m\u001b[0mself\u001b[0m\u001b[0;34m.\u001b[0m\u001b[0mrequestJson\u001b[0m\u001b[0;34m(\u001b[0m\u001b[0mverb\u001b[0m\u001b[0;34m,\u001b[0m \u001b[0murl\u001b[0m\u001b[0;34m,\u001b[0m \u001b[0mparameters\u001b[0m\u001b[0;34m,\u001b[0m \u001b[0mheaders\u001b[0m\u001b[0;34m,\u001b[0m \u001b[0minput\u001b[0m\u001b[0;34m,\u001b[0m \u001b[0mself\u001b[0m\u001b[0;34m.\u001b[0m\u001b[0m__customConnection\u001b[0m\u001b[0;34m(\u001b[0m\u001b[0murl\u001b[0m\u001b[0;34m)\u001b[0m\u001b[0;34m)\u001b[0m\u001b[0;34m)\u001b[0m\u001b[0;34m\u001b[0m\u001b[0;34m\u001b[0m\u001b[0m\n\u001b[0m\u001b[1;32m    276\u001b[0m \u001b[0;34m\u001b[0m\u001b[0m\n\u001b[1;32m    277\u001b[0m     \u001b[0;32mdef\u001b[0m \u001b[0mrequestMultipartAndCheck\u001b[0m\u001b[0;34m(\u001b[0m\u001b[0mself\u001b[0m\u001b[0;34m,\u001b[0m \u001b[0mverb\u001b[0m\u001b[0;34m,\u001b[0m \u001b[0murl\u001b[0m\u001b[0;34m,\u001b[0m \u001b[0mparameters\u001b[0m\u001b[0;34m=\u001b[0m\u001b[0;32mNone\u001b[0m\u001b[0;34m,\u001b[0m \u001b[0mheaders\u001b[0m\u001b[0;34m=\u001b[0m\u001b[0;32mNone\u001b[0m\u001b[0;34m,\u001b[0m \u001b[0minput\u001b[0m\u001b[0;34m=\u001b[0m\u001b[0;32mNone\u001b[0m\u001b[0;34m)\u001b[0m\u001b[0;34m:\u001b[0m\u001b[0;34m\u001b[0m\u001b[0;34m\u001b[0m\u001b[0m\n",
      "\u001b[0;32m~/anaconda3/lib/python3.7/site-packages/github/Requester.py\u001b[0m in \u001b[0;36m__check\u001b[0;34m(self, status, responseHeaders, output)\u001b[0m\n\u001b[1;32m    284\u001b[0m         \u001b[0moutput\u001b[0m \u001b[0;34m=\u001b[0m \u001b[0mself\u001b[0m\u001b[0;34m.\u001b[0m\u001b[0m__structuredFromJson\u001b[0m\u001b[0;34m(\u001b[0m\u001b[0moutput\u001b[0m\u001b[0;34m)\u001b[0m\u001b[0;34m\u001b[0m\u001b[0;34m\u001b[0m\u001b[0m\n\u001b[1;32m    285\u001b[0m         \u001b[0;32mif\u001b[0m \u001b[0mstatus\u001b[0m \u001b[0;34m>=\u001b[0m \u001b[0;36m400\u001b[0m\u001b[0;34m:\u001b[0m\u001b[0;34m\u001b[0m\u001b[0;34m\u001b[0m\u001b[0m\n\u001b[0;32m--> 286\u001b[0;31m             \u001b[0;32mraise\u001b[0m \u001b[0mself\u001b[0m\u001b[0;34m.\u001b[0m\u001b[0m__createException\u001b[0m\u001b[0;34m(\u001b[0m\u001b[0mstatus\u001b[0m\u001b[0;34m,\u001b[0m \u001b[0mresponseHeaders\u001b[0m\u001b[0;34m,\u001b[0m \u001b[0moutput\u001b[0m\u001b[0;34m)\u001b[0m\u001b[0;34m\u001b[0m\u001b[0;34m\u001b[0m\u001b[0m\n\u001b[0m\u001b[1;32m    287\u001b[0m         \u001b[0;32mreturn\u001b[0m \u001b[0mresponseHeaders\u001b[0m\u001b[0;34m,\u001b[0m \u001b[0moutput\u001b[0m\u001b[0;34m\u001b[0m\u001b[0;34m\u001b[0m\u001b[0m\n\u001b[1;32m    288\u001b[0m \u001b[0;34m\u001b[0m\u001b[0m\n",
      "\u001b[0;31mRateLimitExceededException\u001b[0m: 403 {'message': 'API rate limit exceeded for user ID 5610771.', 'documentation_url': 'https://developer.github.com/v3/#rate-limiting'}"
     ]
    }
   ],
   "source": [
    "\n",
    "print(len(list(popular_repos)))"
   ]
  },
  {
   "cell_type": "code",
   "execution_count": 62,
   "metadata": {},
   "outputs": [
    {
     "data": {
      "text/plain": [
       "['Dockerfile',\n",
       " 'Scala',\n",
       " None,\n",
       " 'Julia',\n",
       " 'HTML',\n",
       " 'CoffeeScript',\n",
       " 'OCaml',\n",
       " 'Elixir',\n",
       " 'Haskell',\n",
       " 'Perl',\n",
       " 'CSS',\n",
       " 'TeX',\n",
       " 'Swift',\n",
       " 'Rust',\n",
       " 'Clojure',\n",
       " 'Kotlin',\n",
       " 'Lua',\n",
       " 'Assembly',\n",
       " 'Emacs Lisp',\n",
       " 'Batchfile',\n",
       " 'Objective-C++',\n",
       " 'Jupyter Notebook',\n",
       " 'C',\n",
       " 'Vue',\n",
       " 'Objective-C',\n",
       " 'Makefile',\n",
       " 'Dart',\n",
       " 'C++',\n",
       " 'Shell',\n",
       " 'Crystal',\n",
       " 'Rascal',\n",
       " 'Vim script']"
      ]
     },
     "execution_count": 62,
     "metadata": {},
     "output_type": "execute_result"
    }
   ],
   "source": [
    "resp = []\n",
    "for p in popular_repos:\n",
    "    if (not p.language in languages):\n",
    "        resp.append(p.language)\n",
    "\n",
    "s = list(set(resp))\n",
    "s"
   ]
  },
  {
   "cell_type": "code",
   "execution_count": 12,
   "metadata": {},
   "outputs": [
    {
     "data": {
      "text/plain": [
       "<github.PaginatedList.PaginatedList at 0x7f83843acda0>"
      ]
     },
     "execution_count": 12,
     "metadata": {},
     "output_type": "execute_result"
    }
   ],
   "source": [
    "popular_repos"
   ]
  },
  {
   "cell_type": "code",
   "execution_count": 13,
   "metadata": {},
   "outputs": [],
   "source": [
    "import requests\n",
    "import pandas as pd\n",
    "from pandas.io.json import json_normalize\n",
    "languages = [\"C\"]\n",
    "def get_test_coverage_codecov(full_name):\n",
    "    try:\n",
    "        resp = requests.get('https://codecov.io/api/gh/{0}'.format(full_name))\n",
    "        df = json_normalize(resp.json()['commits'])\n",
    "        df = df[df['timestamp'] == df['timestamp'].max()]\n",
    "        data =[]\n",
    "        data.append(df['totals.c'][0])\n",
    "        data.append(df['timestamp'][0])\n",
    "        return data[0], data[1]\n",
    "    except:\n",
    "        return None,None\n",
    "    \n",
    "def get_test_coverage_coveralls(full_name):\n",
    "    try:\n",
    "        resp = requests.get('https://coveralls.io/github/{0}.json'.format(full_name))\n",
    "        data = []\n",
    "        data.append(resp.json()['covered_percent'])\n",
    "        timestamp = resp.json()['created_at']\n",
    "        timestamp = timestamp.replace(\"T\",\" \")\n",
    "        timestamp = timestamp.replace(\"Z\", \" \")\n",
    "        data.append(timestamp)\n",
    "        return data[0], data[1]\n",
    "    except:\n",
    "        return None,None\n",
    "\n",
    "# get_test_coverage('scikit-learn/scikit-learn')"
   ]
  },
  {
   "cell_type": "code",
   "execution_count": 116,
   "metadata": {},
   "outputs": [
    {
     "name": "stdout",
     "output_type": "stream",
     "text": [
      "('96.76506', '2019-07-11 21:30:31')\n",
      "(64.2930432998153, '2019-06-25 19:05:57 ')\n"
     ]
    }
   ],
   "source": [
    "cov = get_test_coverage_codecov(\"scikit-learn/scikit-learn\")\n",
    "print(cov)\n",
    "cov2 = get_test_coverage_coveralls(\"scikit-learn/scikit-learn\")\n",
    "print(cov2)\n"
   ]
  },
  {
   "cell_type": "markdown",
   "metadata": {},
   "source": [
    "Iterates over the repositories searching for coverage data"
   ]
  },
  {
   "cell_type": "code",
   "execution_count": 5,
   "metadata": {},
   "outputs": [
    {
     "name": "stdout",
     "output_type": "stream",
     "text": [
      "JavaScript: 933\n",
      "Python: 320\n",
      "Go: 188\n",
      "Java: 305\n",
      "C#: 42\n",
      "C++: 140\n",
      "C: 93\n",
      "TypeScript: 118\n",
      "Ruby: 83\n",
      "PHP: 125\n"
     ]
    }
   ],
   "source": [
    "for lang in languages:\n",
    "    popular_repos = g.search_repositories(\"stars:>5000 is:public language:{0}\".format(lang))\n",
    "    print(lang+\": \"+str(popular_repos.totalCount))"
   ]
  },
  {
   "cell_type": "code",
   "execution_count": 14,
   "metadata": {},
   "outputs": [
    {
     "name": "stdout",
     "output_type": "stream",
     "text": [
      "Collecting data for C. 93 repositories in total.\n",
      "10 of 93\n",
      "20 of 93\n",
      "30 of 93\n",
      "40 of 93\n",
      "50 of 93\n",
      "60 of 93\n",
      "70 of 93\n",
      "80 of 93\n",
      "90 of 93\n"
     ]
    }
   ],
   "source": [
    "repos = []\n",
    "for lang in languages:\n",
    "    popular_repos = g.search_repositories(\"stars:>5000 is:public language:{0}\".format(lang))\n",
    "    print(\"Collecting data for \"+str(lang)+\". \"+str(popular_repos.totalCount)+\" repositories in total.\")\n",
    "    iteration = 1\n",
    "    inter = 1\n",
    "    for r in popular_repos:\n",
    "        codecov,date_codecov = get_test_coverage_codecov(r.full_name)\n",
    "        coveralls,date_coveralls = get_test_coverage_coveralls(r.full_name)\n",
    "        if(inter==10):\n",
    "            print(str(iteration)+\" of \"+str(popular_repos.totalCount))\n",
    "            inter=0\n",
    "        #print(r.full_name+\" codecov: \"+str(cov_codecov)+\" coveralls: \"+str(cov_coveralls))\n",
    "        if(date_codecov != None or date_coveralls != None):\n",
    "            repo = {\n",
    "                'id': r.id,\n",
    "                'name': r.name,\n",
    "                'full_name': r.full_name,\n",
    "                'stargazers_count': r.stargazers_count,\n",
    "                'open_issues_count': r.open_issues_count,\n",
    "                'language': r.language,\n",
    "                'size': r.size,\n",
    "                'test_coverage_codecov': codecov,\n",
    "                'test_coverage_coveralls': coveralls,\n",
    "                'date_codecov': date_codecov,\n",
    "                'date_coveralls': date_coveralls\n",
    "            }\n",
    "            repos.append(repo)\n",
    "        iteration+=1\n",
    "        inter+=1"
   ]
  },
  {
   "cell_type": "code",
   "execution_count": 15,
   "metadata": {},
   "outputs": [
    {
     "data": {
      "text/html": [
       "<div>\n",
       "<style scoped>\n",
       "    .dataframe tbody tr th:only-of-type {\n",
       "        vertical-align: middle;\n",
       "    }\n",
       "\n",
       "    .dataframe tbody tr th {\n",
       "        vertical-align: top;\n",
       "    }\n",
       "\n",
       "    .dataframe thead th {\n",
       "        text-align: right;\n",
       "    }\n",
       "</style>\n",
       "<table border=\"1\" class=\"dataframe\">\n",
       "  <thead>\n",
       "    <tr style=\"text-align: right;\">\n",
       "      <th></th>\n",
       "      <th>date_codecov</th>\n",
       "      <th>date_coveralls</th>\n",
       "      <th>full_name</th>\n",
       "      <th>id</th>\n",
       "      <th>language</th>\n",
       "      <th>name</th>\n",
       "      <th>open_issues_count</th>\n",
       "      <th>size</th>\n",
       "      <th>stargazers_count</th>\n",
       "      <th>test_coverage_codecov</th>\n",
       "      <th>test_coverage_coveralls</th>\n",
       "    </tr>\n",
       "  </thead>\n",
       "  <tbody>\n",
       "    <tr>\n",
       "      <th>0</th>\n",
       "      <td>None</td>\n",
       "      <td>2019-03-05 19:24:58</td>\n",
       "      <td>php/php-src</td>\n",
       "      <td>1903522</td>\n",
       "      <td>C</td>\n",
       "      <td>php-src</td>\n",
       "      <td>160</td>\n",
       "      <td>369944</td>\n",
       "      <td>23961</td>\n",
       "      <td>None</td>\n",
       "      <td>92.319811</td>\n",
       "    </tr>\n",
       "    <tr>\n",
       "      <th>1</th>\n",
       "      <td>None</td>\n",
       "      <td>2019-07-09 23:27:45</td>\n",
       "      <td>stedolan/jq</td>\n",
       "      <td>5101141</td>\n",
       "      <td>C</td>\n",
       "      <td>jq</td>\n",
       "      <td>487</td>\n",
       "      <td>6626</td>\n",
       "      <td>14730</td>\n",
       "      <td>None</td>\n",
       "      <td>75.260888</td>\n",
       "    </tr>\n",
       "    <tr>\n",
       "      <th>2</th>\n",
       "      <td>2017-08-18 10:17:25</td>\n",
       "      <td>2019-07-12 16:16:45</td>\n",
       "      <td>curl/curl</td>\n",
       "      <td>569041</td>\n",
       "      <td>C</td>\n",
       "      <td>curl</td>\n",
       "      <td>65</td>\n",
       "      <td>63571</td>\n",
       "      <td>14084</td>\n",
       "      <td>0</td>\n",
       "      <td>77.103155</td>\n",
       "    </tr>\n",
       "    <tr>\n",
       "      <th>3</th>\n",
       "      <td>2019-07-12 04:53:07</td>\n",
       "      <td>None</td>\n",
       "      <td>numpy/numpy</td>\n",
       "      <td>908607</td>\n",
       "      <td>C</td>\n",
       "      <td>numpy</td>\n",
       "      <td>1946</td>\n",
       "      <td>68971</td>\n",
       "      <td>11198</td>\n",
       "      <td>85.71074</td>\n",
       "      <td>NaN</td>\n",
       "    </tr>\n",
       "    <tr>\n",
       "      <th>4</th>\n",
       "      <td>None</td>\n",
       "      <td>2019-07-08 23:58:30</td>\n",
       "      <td>openssl/openssl</td>\n",
       "      <td>7634677</td>\n",
       "      <td>C</td>\n",
       "      <td>openssl</td>\n",
       "      <td>949</td>\n",
       "      <td>173437</td>\n",
       "      <td>10838</td>\n",
       "      <td>None</td>\n",
       "      <td>57.640976</td>\n",
       "    </tr>\n",
       "    <tr>\n",
       "      <th>5</th>\n",
       "      <td>2019-07-12 16:16:44</td>\n",
       "      <td>2019-04-29 17:04:34</td>\n",
       "      <td>radare/radare2</td>\n",
       "      <td>4869294</td>\n",
       "      <td>C</td>\n",
       "      <td>radare2</td>\n",
       "      <td>1253</td>\n",
       "      <td>106398</td>\n",
       "      <td>10608</td>\n",
       "      <td>37.78201</td>\n",
       "      <td>41.148886</td>\n",
       "    </tr>\n",
       "    <tr>\n",
       "      <th>6</th>\n",
       "      <td>2017-05-14 05:33:22</td>\n",
       "      <td>None</td>\n",
       "      <td>esp8266/Arduino</td>\n",
       "      <td>32969220</td>\n",
       "      <td>C</td>\n",
       "      <td>Arduino</td>\n",
       "      <td>442</td>\n",
       "      <td>75138</td>\n",
       "      <td>9692</td>\n",
       "      <td>27.57866</td>\n",
       "      <td>NaN</td>\n",
       "    </tr>\n",
       "    <tr>\n",
       "      <th>7</th>\n",
       "      <td>None</td>\n",
       "      <td>2019-07-12 07:22:46</td>\n",
       "      <td>micropython/micropython</td>\n",
       "      <td>15337142</td>\n",
       "      <td>C</td>\n",
       "      <td>micropython</td>\n",
       "      <td>725</td>\n",
       "      <td>41224</td>\n",
       "      <td>8710</td>\n",
       "      <td>None</td>\n",
       "      <td>97.997557</td>\n",
       "    </tr>\n",
       "    <tr>\n",
       "      <th>8</th>\n",
       "      <td>2019-07-09 22:20:36</td>\n",
       "      <td>None</td>\n",
       "      <td>timescale/timescaledb</td>\n",
       "      <td>84240850</td>\n",
       "      <td>C</td>\n",
       "      <td>timescaledb</td>\n",
       "      <td>119</td>\n",
       "      <td>6808</td>\n",
       "      <td>7293</td>\n",
       "      <td>91.25943</td>\n",
       "      <td>NaN</td>\n",
       "    </tr>\n",
       "    <tr>\n",
       "      <th>9</th>\n",
       "      <td>None</td>\n",
       "      <td>2019-06-21 21:52:55</td>\n",
       "      <td>jedisct1/libsodium</td>\n",
       "      <td>7710647</td>\n",
       "      <td>C</td>\n",
       "      <td>libsodium</td>\n",
       "      <td>2</td>\n",
       "      <td>7548</td>\n",
       "      <td>7182</td>\n",
       "      <td>None</td>\n",
       "      <td>97.166470</td>\n",
       "    </tr>\n",
       "    <tr>\n",
       "      <th>10</th>\n",
       "      <td>2019-07-12 14:39:32</td>\n",
       "      <td>None</td>\n",
       "      <td>beanstalkd/beanstalkd</td>\n",
       "      <td>6040</td>\n",
       "      <td>C</td>\n",
       "      <td>beanstalkd</td>\n",
       "      <td>64</td>\n",
       "      <td>1088</td>\n",
       "      <td>5127</td>\n",
       "      <td>63.85759</td>\n",
       "      <td>NaN</td>\n",
       "    </tr>\n",
       "  </tbody>\n",
       "</table>\n",
       "</div>"
      ],
      "text/plain": [
       "           date_codecov        date_coveralls                full_name  \\\n",
       "0                  None  2019-03-05 19:24:58               php/php-src   \n",
       "1                  None  2019-07-09 23:27:45               stedolan/jq   \n",
       "2   2017-08-18 10:17:25  2019-07-12 16:16:45                 curl/curl   \n",
       "3   2019-07-12 04:53:07                  None              numpy/numpy   \n",
       "4                  None  2019-07-08 23:58:30           openssl/openssl   \n",
       "5   2019-07-12 16:16:44  2019-04-29 17:04:34            radare/radare2   \n",
       "6   2017-05-14 05:33:22                  None          esp8266/Arduino   \n",
       "7                  None  2019-07-12 07:22:46   micropython/micropython   \n",
       "8   2019-07-09 22:20:36                  None    timescale/timescaledb   \n",
       "9                  None  2019-06-21 21:52:55        jedisct1/libsodium   \n",
       "10  2019-07-12 14:39:32                  None    beanstalkd/beanstalkd   \n",
       "\n",
       "          id language         name  open_issues_count    size  \\\n",
       "0    1903522        C      php-src                160  369944   \n",
       "1    5101141        C           jq                487    6626   \n",
       "2     569041        C         curl                 65   63571   \n",
       "3     908607        C        numpy               1946   68971   \n",
       "4    7634677        C      openssl                949  173437   \n",
       "5    4869294        C      radare2               1253  106398   \n",
       "6   32969220        C      Arduino                442   75138   \n",
       "7   15337142        C  micropython                725   41224   \n",
       "8   84240850        C  timescaledb                119    6808   \n",
       "9    7710647        C    libsodium                  2    7548   \n",
       "10      6040        C   beanstalkd                 64    1088   \n",
       "\n",
       "    stargazers_count test_coverage_codecov  test_coverage_coveralls  \n",
       "0              23961                  None                92.319811  \n",
       "1              14730                  None                75.260888  \n",
       "2              14084                     0                77.103155  \n",
       "3              11198              85.71074                      NaN  \n",
       "4              10838                  None                57.640976  \n",
       "5              10608              37.78201                41.148886  \n",
       "6               9692              27.57866                      NaN  \n",
       "7               8710                  None                97.997557  \n",
       "8               7293              91.25943                      NaN  \n",
       "9               7182                  None                97.166470  \n",
       "10              5127              63.85759                      NaN  "
      ]
     },
     "execution_count": 15,
     "metadata": {},
     "output_type": "execute_result"
    }
   ],
   "source": [
    "import pandas as pd\n",
    "\n",
    "df = pd.DataFrame(repos)\n",
    "df"
   ]
  },
  {
   "cell_type": "markdown",
   "metadata": {},
   "source": [
    "Total amount of repositories with more than 5 thousand stars"
   ]
  },
  {
   "cell_type": "code",
   "execution_count": 16,
   "metadata": {
    "scrolled": true
   },
   "outputs": [
    {
     "data": {
      "text/plain": [
       "11"
      ]
     },
     "execution_count": 16,
     "metadata": {},
     "output_type": "execute_result"
    }
   ],
   "source": [
    "len(repos)\n"
   ]
  },
  {
   "cell_type": "code",
   "execution_count": 17,
   "metadata": {},
   "outputs": [],
   "source": [
    "df = df.drop_duplicates(subset=['full_name'])"
   ]
  },
  {
   "cell_type": "code",
   "execution_count": 18,
   "metadata": {},
   "outputs": [
    {
     "data": {
      "text/plain": [
       "11"
      ]
     },
     "execution_count": 18,
     "metadata": {},
     "output_type": "execute_result"
    }
   ],
   "source": [
    "len(df)"
   ]
  },
  {
   "cell_type": "markdown",
   "metadata": {},
   "source": [
    "Total amount of repositories with coverage data from codecov"
   ]
  },
  {
   "cell_type": "code",
   "execution_count": 19,
   "metadata": {},
   "outputs": [
    {
     "data": {
      "text/plain": [
       "6"
      ]
     },
     "execution_count": 19,
     "metadata": {},
     "output_type": "execute_result"
    }
   ],
   "source": [
    "len(df[df['test_coverage_codecov'].notnull()])"
   ]
  },
  {
   "cell_type": "code",
   "execution_count": 20,
   "metadata": {},
   "outputs": [
    {
     "data": {
      "text/plain": [
       "7"
      ]
     },
     "execution_count": 20,
     "metadata": {},
     "output_type": "execute_result"
    }
   ],
   "source": [
    "\n",
    "len(df[df['test_coverage_coveralls'].notnull()])"
   ]
  },
  {
   "cell_type": "code",
   "execution_count": 21,
   "metadata": {},
   "outputs": [
    {
     "data": {
      "text/plain": [
       "2"
      ]
     },
     "execution_count": 21,
     "metadata": {},
     "output_type": "execute_result"
    }
   ],
   "source": [
    "aux = df[df['test_coverage_codecov'].notnull()]\n",
    "\n",
    "len(aux[aux['test_coverage_coveralls'].notnull()])"
   ]
  },
  {
   "cell_type": "markdown",
   "metadata": {},
   "source": [
    "for r in repos:\n",
    "    if(r['full_name'] == \"selectize/selectize.js\"):\n",
    "        print(\"language\"+r['language'])\n",
    "        print(\"stars\"+str(r['stargazers_count']))\n",
    "        print(\"issues\"+str(r['open_issues_count']))\n",
    "        print(\"size\"+str(r['size']))\n",
    "        "
   ]
  },
  {
   "cell_type": "markdown",
   "metadata": {},
   "source": [
    "Saving in CSV"
   ]
  },
  {
   "cell_type": "code",
   "execution_count": 22,
   "metadata": {},
   "outputs": [],
   "source": [
    "df.to_csv('repos_coverage_c.csv')"
   ]
  },
  {
   "cell_type": "code",
   "execution_count": null,
   "metadata": {},
   "outputs": [],
   "source": []
  },
  {
   "cell_type": "code",
   "execution_count": null,
   "metadata": {},
   "outputs": [],
   "source": []
  }
 ],
 "metadata": {
  "kernelspec": {
   "display_name": "Python 3",
   "language": "python",
   "name": "python3"
  },
  "language_info": {
   "codemirror_mode": {
    "name": "ipython",
    "version": 3
   },
   "file_extension": ".py",
   "mimetype": "text/x-python",
   "name": "python",
   "nbconvert_exporter": "python",
   "pygments_lexer": "ipython3",
   "version": "3.7.3"
  }
 },
 "nbformat": 4,
 "nbformat_minor": 2
}
