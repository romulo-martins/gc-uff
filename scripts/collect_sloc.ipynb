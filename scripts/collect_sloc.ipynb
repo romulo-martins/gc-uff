{
 "cells": [
  {
   "cell_type": "code",
   "execution_count": 2,
   "metadata": {},
   "outputs": [],
   "source": [
    "import os\n",
    "import pandas as pd"
   ]
  },
  {
   "cell_type": "code",
   "execution_count": 3,
   "metadata": {},
   "outputs": [],
   "source": [
    "repos = pd.read_csv('dataset/dataset_tools.csv', sep=',')"
   ]
  },
  {
   "cell_type": "code",
   "execution_count": 4,
   "metadata": {
    "scrolled": true
   },
   "outputs": [],
   "source": [
    "repos_size = len(repos)"
   ]
  },
  {
   "cell_type": "code",
   "execution_count": null,
   "metadata": {},
   "outputs": [
    {
     "name": "stdout",
     "output_type": "stream",
     "text": [
      "Project 0 out of 184\n",
      "Downloading dotnet/corefx\n",
      "Finished downloading. Exit value: 0\n",
      "Analyzing corefx\n",
      "Finished analyzing. Exit value: 256\n",
      "Project 1 out of 184\n",
      "Downloading dotnet/roslyn\n",
      "Finished downloading. Exit value: 0\n",
      "Analyzing roslyn\n",
      "Finished analyzing. Exit value: 256\n",
      "Project 2 out of 184\n",
      "Downloading NancyFx/Nancy\n",
      "Finished downloading. Exit value: 0\n",
      "Analyzing Nancy\n",
      "Finished analyzing. Exit value: 256\n",
      "Project 3 out of 184\n",
      "Downloading dotnet/coreclr\n",
      "Finished downloading. Exit value: 2\n",
      "Analyzing coreclr\n",
      "Finished analyzing. Exit value: 0\n",
      "Project 4 out of 184\n",
      "Downloading aspnet/EntityFrameworkCore\n",
      "Finished downloading. Exit value: 0\n",
      "Analyzing EntityFrameworkCore\n"
     ]
    }
   ],
   "source": [
    "for index, row in repos.iterrows():\n",
    "    os.system(\"rm master.zip\")\n",
    "    download_cmd = \"wget https://github.com/\" + row['full_name']+\"/archive/master.zip\"\n",
    "    print(\"Project \"+str(index)+\" out of \"+str(repos_size))\n",
    "    print(\"Downloading \"+row['full_name'])\n",
    "    exit_value = os.system(download_cmd)\n",
    "    print(\"Finished downloading. Exit value: \"+str(exit_value))\n",
    "    if index == 1:\n",
    "        cloc_cmd = \"cloc --sql 1 --sql-project \"+row['short_name']+\" master.zip | sqlite3 analysis.db\"\n",
    "    else:\n",
    "        cloc_cmd = \"cloc --sql 1 --sql-project \"+row['short_name']+\" --sql-append master.zip | sqlite3 analysis.db\"\n",
    "    print(\"Analyzing \"+row['short_name'])\n",
    "    exit_value = os.system(cloc_cmd)\n",
    "    print(\"Finished analyzing. Exit value: \"+str(exit_value))\n",
    "    os.system(\"rm master.zip\")\n",
    "        "
   ]
  },
  {
   "cell_type": "code",
   "execution_count": null,
   "metadata": {},
   "outputs": [],
   "source": []
  },
  {
   "cell_type": "code",
   "execution_count": null,
   "metadata": {},
   "outputs": [],
   "source": []
  }
 ],
 "metadata": {
  "kernelspec": {
   "display_name": "Python 3",
   "language": "python",
   "name": "python3"
  },
  "language_info": {
   "codemirror_mode": {
    "name": "ipython",
    "version": 3
   },
   "file_extension": ".py",
   "mimetype": "text/x-python",
   "name": "python",
   "nbconvert_exporter": "python",
   "pygments_lexer": "ipython3",
   "version": "3.7.3"
  }
 },
 "nbformat": 4,
 "nbformat_minor": 2
}
