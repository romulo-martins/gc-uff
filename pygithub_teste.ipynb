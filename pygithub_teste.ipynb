{
 "cells": [
  {
   "cell_type": "markdown",
   "metadata": {},
   "source": [
    "# Estudo da biblioteca PyGithub\n",
    "\n",
    "Alguns scripts para estudar a biblioteca PyGithub. [Documentacao](https://pygithub.readthedocs.io/en/latest/introduction.html)"
   ]
  },
  {
   "cell_type": "code",
   "execution_count": 1,
   "metadata": {},
   "outputs": [],
   "source": [
    "from github import Github\n",
    "import pandas as pd"
   ]
  },
  {
   "cell_type": "code",
   "execution_count": 2,
   "metadata": {},
   "outputs": [],
   "source": [
    "# Instancia a blibioteca do Github com a partir de um token de acesso.\n",
    "\n",
    "g = Github(\"inserir seu token aqui\")"
   ]
  },
  {
   "cell_type": "code",
   "execution_count": 15,
   "metadata": {},
   "outputs": [
    {
     "name": "stdout",
     "output_type": "stream",
     "text": [
      "Repository(full_name=\"rails/rails\")\n",
      "Repository(full_name=\"jekyll/jekyll\")\n",
      "Repository(full_name=\"discourse/discourse\")\n",
      "Repository(full_name=\"fastlane/fastlane\")\n",
      "Repository(full_name=\"bayandin/awesome-awesomeness\")\n",
      "Repository(full_name=\"gitlabhq/gitlabhq\")\n",
      "Repository(full_name=\"huginn/huginn\")\n",
      "Repository(full_name=\"freeCodeCamp/devdocs\")\n",
      "Repository(full_name=\"plataformatec/devise\")\n",
      "Repository(full_name=\"hashicorp/vagrant\")\n",
      "Repository(full_name=\"tootsuite/mastodon\")\n",
      "Repository(full_name=\"Homebrew/brew\")\n",
      "Repository(full_name=\"rapid7/metasploit-framework\")\n",
      "Repository(full_name=\"ruby/ruby\")\n",
      "Repository(full_name=\"kilimchoi/engineering-blogs\")\n",
      "Repository(full_name=\"Homebrew/homebrew-cask\")\n",
      "Repository(full_name=\"twbs/bootstrap-sass\")\n",
      "Repository(full_name=\"diaspora/diaspora\")\n",
      "Repository(full_name=\"CocoaPods/CocoaPods\")\n",
      "Repository(full_name=\"capistrano/capistrano\")\n",
      "Repository(full_name=\"sinatra/sinatra\")\n",
      "Repository(full_name=\"elastic/logstash\")\n",
      "Repository(full_name=\"rubocop-hq/rubocop\")\n",
      "Repository(full_name=\"gollum/gollum\")\n",
      "Repository(full_name=\"spree/spree\")\n",
      "Repository(full_name=\"imathis/octopress\")\n",
      "Repository(full_name=\"mperham/sidekiq\")\n",
      "Repository(full_name=\"komeiji-satori/Dress\")\n",
      "Repository(full_name=\"jordansissel/fpm\")\n",
      "Repository(full_name=\"thoughtbot/paperclip\")\n",
      "Repository(full_name=\"atech/postal\")\n",
      "Repository(full_name=\"thepracticaldev/dev.to\")\n",
      "Repository(full_name=\"tmuxinator/tmuxinator\")\n",
      "Repository(full_name=\"thoughtbot/bourbon\")\n",
      "Repository(full_name=\"ruby-grape/grape\")\n",
      "Repository(full_name=\"teamcapybara/capybara\")\n",
      "Repository(full_name=\"resque/resque\")\n",
      "Repository(full_name=\"activeadmin/activeadmin\")\n",
      "Repository(full_name=\"carrierwaveuploader/carrierwave\")\n",
      "Repository(full_name=\"thoughtbot/guides\")\n",
      "Repository(full_name=\"javan/whenever\")\n",
      "Repository(full_name=\"fluent/fluentd\")\n",
      "Repository(full_name=\"mame/quine-relay\")\n",
      "Repository(full_name=\"stympy/faker\")\n",
      "Repository(full_name=\"kaminari/kaminari\")\n",
      "Repository(full_name=\"plataformatec/simple_form\")\n",
      "Repository(full_name=\"Shopify/liquid\")\n",
      "Repository(full_name=\"sferik/rails_admin\")\n",
      "Repository(full_name=\"omniauth/omniauth\")\n",
      "Repository(full_name=\"github/linguist\")\n",
      "Repository(full_name=\"BetterErrors/better_errors\")\n",
      "Repository(full_name=\"varvet/pundit\")\n",
      "Repository(full_name=\"middleman/middleman\")\n",
      "Repository(full_name=\"thoughtbot/factory_bot\")\n",
      "Repository(full_name=\"ryanb/cancan\")\n",
      "Repository(full_name=\"skwp/dotfiles\")\n",
      "Repository(full_name=\"realm/jazzy\")\n",
      "Repository(full_name=\"venmo/synx\")\n",
      "Repository(full_name=\"progit/progit\")\n",
      "Repository(full_name=\"chef/chef\")\n",
      "Repository(full_name=\"guard/guard\")\n",
      "Repository(full_name=\"puma/puma\")\n",
      "Repository(full_name=\"Homebrew/homebrew-core\")\n",
      "Repository(full_name=\"pry/pry\")\n",
      "Repository(full_name=\"flyerhzm/bullet\")\n",
      "Repository(full_name=\"paper-trail-gem/paper_trail\")\n",
      "Repository(full_name=\"alexreisner/geocoder\")\n",
      "Repository(full_name=\"mislav/will_paginate\")\n",
      "Repository(full_name=\"github-changelog-generator/github-changelog-generator\")\n",
      "Repository(full_name=\"presidentbeef/brakeman\")\n",
      "Repository(full_name=\"rails-api/rails-api\")\n",
      "Repository(full_name=\"puppetlabs/puppet\")\n",
      "Repository(full_name=\"square/maximum-awesome\")\n",
      "Repository(full_name=\"thibmaek/awesome-raspberry-pi\")\n",
      "Repository(full_name=\"norman/friendly_id\")\n",
      "Repository(full_name=\"bkeepers/dotenv\")\n",
      "Repository(full_name=\"DeathKing/Learning-SICP\")\n",
      "Repository(full_name=\"ankane/chartkick\")\n",
      "Repository(full_name=\"justinfrench/formtastic\")\n",
      "Repository(full_name=\"ddollar/foreman\")\n",
      "Repository(full_name=\"cucumber/cucumber-ruby\")\n"
     ]
    }
   ],
   "source": [
    "# Pega todos os repositórios da linguagem ruby com mais de 5 mil estrela.\n",
    "\n",
    "ruby_repos = g.search_repositories(query=\"language:ruby stars:>5000\")\n",
    "\n",
    "for repo in ruby_repos:\n",
    "    print(repo)"
   ]
  },
  {
   "cell_type": "code",
   "execution_count": 32,
   "metadata": {},
   "outputs": [
    {
     "data": {
      "text/plain": [
       "81"
      ]
     },
     "execution_count": 32,
     "metadata": {},
     "output_type": "execute_result"
    }
   ],
   "source": [
    "# Conta quantos repositórios existem da linguagem ruby com mais de 5 mil estrelas.\n",
    "\n",
    "ruby_repos.totalCount"
   ]
  },
  {
   "cell_type": "code",
   "execution_count": 33,
   "metadata": {},
   "outputs": [],
   "source": [
    "# Pega todos os repositórios de projetos Ruby com mais de 5 mil estrelas e com travis.\n",
    "repos_w_travis = []\n",
    "\n",
    "for repo in ruby_repos:\n",
    "    contents = g.get_repo(repo.full_name).get_contents(\"\")\n",
    "    for content in contents:\n",
    "        if content.path == \".travis.yml\":\n",
    "            repos_w_travis.append(repo)"
   ]
  },
  {
   "cell_type": "code",
   "execution_count": 36,
   "metadata": {},
   "outputs": [
    {
     "data": {
      "text/plain": [
       "59"
      ]
     },
     "execution_count": 36,
     "metadata": {},
     "output_type": "execute_result"
    }
   ],
   "source": [
    "# Verifica quantos destes projetos com o travis existem.\n",
    "\n",
    "len(repos_w_travis)"
   ]
  },
  {
   "cell_type": "code",
   "execution_count": null,
   "metadata": {},
   "outputs": [],
   "source": []
  }
 ],
 "metadata": {
  "kernelspec": {
   "display_name": "Python 3",
   "language": "python",
   "name": "python3"
  },
  "language_info": {
   "codemirror_mode": {
    "name": "ipython",
    "version": 3
   },
   "file_extension": ".py",
   "mimetype": "text/x-python",
   "name": "python",
   "nbconvert_exporter": "python",
   "pygments_lexer": "ipython3",
   "version": "3.6.7"
  }
 },
 "nbformat": 4,
 "nbformat_minor": 2
}
