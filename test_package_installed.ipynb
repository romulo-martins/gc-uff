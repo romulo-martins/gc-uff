{
 "cells": [
  {
   "cell_type": "code",
   "execution_count": 2,
   "metadata": {},
   "outputs": [],
   "source": [
    "from github import Github\n",
    "import pandas as pd"
   ]
  },
  {
   "cell_type": "code",
   "execution_count": 3,
   "metadata": {},
   "outputs": [
    {
     "name": "stdout",
     "output_type": "stream",
     "text": [
      "env: token=a96bcae252e327cdc0f1ea9a4f91e1fb2b5a7a4c\n"
     ]
    }
   ],
   "source": [
    "%run settings.ipynb\n",
    "\n",
    "token = %env token\n",
    "\n",
    "github = Github(token)"
   ]
  },
  {
   "cell_type": "markdown",
   "metadata": {},
   "source": [
    "## Análise de testes usados nos projetos do dataset.\n",
    "\n",
    "1. Análise de quantos projetos usam arquivos de controle.\n",
    "2. Armazenar arquivos de controle.\n",
    "3. Verificar se existe algum pacote de teste no arquivo de controle.\n",
    "4. Verificar qual pacote está sendo usado.\n"
   ]
  },
  {
   "cell_type": "code",
   "execution_count": 11,
   "metadata": {},
   "outputs": [
    {
     "data": {
      "text/plain": [
       "array(['JavaScript', 'Python', 'Java', 'Go', 'Ruby', 'PHP', 'TypeScript',\n",
       "       'C#'], dtype=object)"
      ]
     },
     "execution_count": 11,
     "metadata": {},
     "output_type": "execute_result"
    }
   ],
   "source": [
    "tools = pd.read_csv('dataset/de_para_tools.csv', sep=';')\n",
    "\n",
    "tools['language'].unique()\n"
   ]
  },
  {
   "cell_type": "code",
   "execution_count": 44,
   "metadata": {},
   "outputs": [
    {
     "data": {
      "text/plain": [
       "{'C#': {'total': 0, 'yes': 0},\n",
       " 'Go': {'total': 0, 'yes': 0},\n",
       " 'Java': {'total': 0, 'yes': 0},\n",
       " 'JavaScript': {'total': 0, 'yes': 0},\n",
       " 'PHP': {'total': 0, 'yes': 0},\n",
       " 'Python': {'total': 0, 'yes': 0},\n",
       " 'Ruby': {'total': 0, 'yes': 0},\n",
       " 'TypeScript': {'total': 0, 'yes': 0}}"
      ]
     },
     "execution_count": 44,
     "metadata": {},
     "output_type": "execute_result"
    }
   ],
   "source": [
    "manage_file = {}\n",
    "\n",
    "for t in tools['language'].unique():\n",
    "    manage_file[t] = {\"yes\": 0, \"total\": 0}\n",
    "\n",
    "manage_file"
   ]
  },
  {
   "cell_type": "markdown",
   "metadata": {},
   "source": [
    "### TO-DO: Atualização Dataset.\n",
    "\n",
    "Filtro para restringir dataset para apenas a lista de linguagens definidas."
   ]
  },
  {
   "cell_type": "code",
   "execution_count": 40,
   "metadata": {
    "scrolled": true
   },
   "outputs": [
    {
     "data": {
      "text/html": [
       "<div>\n",
       "<style scoped>\n",
       "    .dataframe tbody tr th:only-of-type {\n",
       "        vertical-align: middle;\n",
       "    }\n",
       "\n",
       "    .dataframe tbody tr th {\n",
       "        vertical-align: top;\n",
       "    }\n",
       "\n",
       "    .dataframe thead th {\n",
       "        text-align: right;\n",
       "    }\n",
       "</style>\n",
       "<table border=\"1\" class=\"dataframe\">\n",
       "  <thead>\n",
       "    <tr style=\"text-align: right;\">\n",
       "      <th></th>\n",
       "      <th>full_name</th>\n",
       "      <th>git_url</th>\n",
       "      <th>id</th>\n",
       "      <th>language</th>\n",
       "    </tr>\n",
       "  </thead>\n",
       "  <tbody>\n",
       "    <tr>\n",
       "      <th>0</th>\n",
       "      <td>b4winckler/macvim</td>\n",
       "      <td>git://github.com/b4winckler/macvim.git</td>\n",
       "      <td>692798</td>\n",
       "      <td>C</td>\n",
       "    </tr>\n",
       "    <tr>\n",
       "      <th>1</th>\n",
       "      <td>php/php-src</td>\n",
       "      <td>git://github.com/php/php-src.git</td>\n",
       "      <td>1903522</td>\n",
       "      <td>C</td>\n",
       "    </tr>\n",
       "    <tr>\n",
       "      <th>2</th>\n",
       "      <td>antirez/redis</td>\n",
       "      <td>git://github.com/antirez/redis.git</td>\n",
       "      <td>156018</td>\n",
       "      <td>C</td>\n",
       "    </tr>\n",
       "    <tr>\n",
       "      <th>3</th>\n",
       "      <td>libgit2/libgit2</td>\n",
       "      <td>git://github.com/libgit2/libgit2.git</td>\n",
       "      <td>901662</td>\n",
       "      <td>C</td>\n",
       "    </tr>\n",
       "    <tr>\n",
       "      <th>4</th>\n",
       "      <td>torvalds/linux</td>\n",
       "      <td>git://github.com/torvalds/linux.git</td>\n",
       "      <td>2325298</td>\n",
       "      <td>C</td>\n",
       "    </tr>\n",
       "  </tbody>\n",
       "</table>\n",
       "</div>"
      ],
      "text/plain": [
       "           full_name                                 git_url       id language\n",
       "0  b4winckler/macvim  git://github.com/b4winckler/macvim.git   692798        C\n",
       "1        php/php-src        git://github.com/php/php-src.git  1903522        C\n",
       "2      antirez/redis      git://github.com/antirez/redis.git   156018        C\n",
       "3    libgit2/libgit2    git://github.com/libgit2/libgit2.git   901662        C\n",
       "4     torvalds/linux     git://github.com/torvalds/linux.git  2325298        C"
      ]
     },
     "execution_count": 40,
     "metadata": {},
     "output_type": "execute_result"
    }
   ],
   "source": [
    "repo_full = pd.read_csv('dataset/repositories.csv', sep=';')\n",
    "#repo_full.drop(\"Unnamed: 0\", axis=1, inplace=True) \n",
    "repo_full.head()"
   ]
  },
  {
   "cell_type": "markdown",
   "metadata": {},
   "source": [
    "### Quantidade total de projetos de uma mesma linguagem."
   ]
  },
  {
   "cell_type": "code",
   "execution_count": 45,
   "metadata": {},
   "outputs": [
    {
     "data": {
      "text/plain": [
       "{'C#': {'total': 13, 'yes': 0},\n",
       " 'Go': {'total': 33, 'yes': 0},\n",
       " 'Java': {'total': 38, 'yes': 0},\n",
       " 'JavaScript': {'total': 81, 'yes': 0},\n",
       " 'PHP': {'total': 21, 'yes': 0},\n",
       " 'Python': {'total': 52, 'yes': 0},\n",
       " 'Ruby': {'total': 23, 'yes': 0},\n",
       " 'TypeScript': {'total': 15, 'yes': 0}}"
      ]
     },
     "execution_count": 45,
     "metadata": {},
     "output_type": "execute_result"
    }
   ],
   "source": [
    "for index, row in repo_full.iterrows():\n",
    "    if row['language'] in manage_file:\n",
    "        manage_file[row['language']][\"total\"]+=1\n",
    "\n",
    "manage_file"
   ]
  },
  {
   "cell_type": "markdown",
   "metadata": {},
   "source": [
    "### Quantidade total de projetos que possui o arquivo de gerencia de pacotes."
   ]
  },
  {
   "cell_type": "code",
   "execution_count": 46,
   "metadata": {
    "scrolled": false
   },
   "outputs": [
    {
     "data": {
      "text/plain": [
       "{'C#': {'total': 13, 'yes': 7},\n",
       " 'Go': {'total': 33, 'yes': 16},\n",
       " 'Java': {'total': 38, 'yes': 21},\n",
       " 'JavaScript': {'total': 81, 'yes': 73},\n",
       " 'PHP': {'total': 21, 'yes': 19},\n",
       " 'Python': {'total': 52, 'yes': 16},\n",
       " 'Ruby': {'total': 23, 'yes': 1},\n",
       " 'TypeScript': {'total': 15, 'yes': 15}}"
      ]
     },
     "execution_count": 46,
     "metadata": {},
     "output_type": "execute_result"
    }
   ],
   "source": [
    "for index, row in repo_full.iterrows():\n",
    "    packages = tools[tools['language'] == row['language']]\n",
    "    arq = packages['file_packages_installed'].unique()\n",
    "\n",
    "    if(len(arq) > 0):\n",
    "        contents = github.get_repo(row['full_name']).get_contents(\"\")\n",
    "\n",
    "        for content in contents:\n",
    "            try:\n",
    "                if(str(content.path) == str(arq[0])):\n",
    "                    #Registrar quantidade de projetos possui arquivo de controle.\n",
    "                    manage_file[row['language']][\"yes\"]+=1\n",
    "                    \n",
    "                    #Obter conteúdo do arquivo.\n",
    "\n",
    "            except UnicodeEncodeError:\n",
    "                pass\n",
    "\n",
    "manage_file           \n",
    "        "
   ]
  },
  {
   "cell_type": "code",
   "execution_count": null,
   "metadata": {},
   "outputs": [],
   "source": []
  },
  {
   "cell_type": "code",
   "execution_count": null,
   "metadata": {},
   "outputs": [],
   "source": []
  }
 ],
 "metadata": {
  "kernelspec": {
   "display_name": "Python 2",
   "language": "python",
   "name": "python2"
  },
  "language_info": {
   "codemirror_mode": {
    "name": "ipython",
    "version": 2
   },
   "file_extension": ".py",
   "mimetype": "text/x-python",
   "name": "python",
   "nbconvert_exporter": "python",
   "pygments_lexer": "ipython2",
   "version": "2.7.10"
  }
 },
 "nbformat": 4,
 "nbformat_minor": 2
}
