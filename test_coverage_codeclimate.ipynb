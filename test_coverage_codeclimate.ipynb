{
 "cells": [
  {
   "cell_type": "markdown",
   "metadata": {},
   "source": [
    "Configurando o PyGithub"
   ]
  },
  {
   "cell_type": "code",
   "execution_count": 2,
   "metadata": {
    "scrolled": true
   },
   "outputs": [],
   "source": [
    "from github import Github\n",
    "\n",
    "g = Github(\"token\")"
   ]
  },
  {
   "cell_type": "markdown",
   "metadata": {},
   "source": [
    "Buscando repositórios com mais de 5 mil estrelas de uma determinada linguagem"
   ]
  },
  {
   "cell_type": "code",
   "execution_count": 99,
   "metadata": {},
   "outputs": [],
   "source": [
    "lang = 'javascript'"
   ]
  },
  {
   "cell_type": "code",
   "execution_count": 100,
   "metadata": {},
   "outputs": [],
   "source": [
    "result = g.search_repositories(query=\"language:{0} stars:>5000 is:public\".format(lang))"
   ]
  },
  {
   "cell_type": "markdown",
   "metadata": {},
   "source": [
    "Métodos para acessar a API do code climate"
   ]
  },
  {
   "cell_type": "code",
   "execution_count": 101,
   "metadata": {},
   "outputs": [],
   "source": [
    "import requests\n",
    "\n",
    "def get_repo_id(full_name):\n",
    "    try:\n",
    "        resp = requests.get('https://api.codeclimate.com/v1/repos?github_slug={0}'.format(full_name))\n",
    "        return resp.json()['data'][0]['id']\n",
    "    except:\n",
    "        return None \n",
    "\n",
    "def get_test_coverage(full_name):\n",
    "    try:\n",
    "        repo_id = get_repo_id(full_name)\n",
    "        if repo_id is None:\n",
    "            return None\n",
    "        resp = requests.get('https://api.codeclimate.com/v1/repos/{0}/test_reports'.format(repo_id))\n",
    "        return resp.json()['data'][0]['attributes']['covered_percent']\n",
    "    except:\n",
    "        return None\n",
    "\n",
    "# print(get_test_coverage('rubocop-hq/rubocop'))"
   ]
  },
  {
   "cell_type": "markdown",
   "metadata": {},
   "source": [
    "Itera sobre os repositórios e busca a cobertura de código"
   ]
  },
  {
   "cell_type": "code",
   "execution_count": null,
   "metadata": {},
   "outputs": [],
   "source": [
    "repos = []\n",
    "for r in result:\n",
    "    repo = {\n",
    "        'id': r.id,\n",
    "        'name': r.name,\n",
    "        'full_name': r.full_name,\n",
    "        'description': r.description,\n",
    "        'stargazers_count': r.stargazers_count,\n",
    "        'open_issues_count': r.open_issues_count,\n",
    "        'language': r.language,\n",
    "        'test_coverage': get_test_coverage(r.full_name)\n",
    "    }\n",
    "    repos.append(repo)"
   ]
  },
  {
   "cell_type": "code",
   "execution_count": null,
   "metadata": {},
   "outputs": [],
   "source": [
    "import pandas as pd\n",
    "\n",
    "df = pd.DataFrame(repos)\n",
    "df"
   ]
  },
  {
   "cell_type": "markdown",
   "metadata": {},
   "source": [
    "Total de repositórios encontrados com mais de 5 mil estrelas"
   ]
  },
  {
   "cell_type": "code",
   "execution_count": null,
   "metadata": {},
   "outputs": [],
   "source": [
    "len(repos)"
   ]
  },
  {
   "cell_type": "markdown",
   "metadata": {},
   "source": [
    "Total de repositórios com cobertura reportados pelo Code Climate"
   ]
  },
  {
   "cell_type": "code",
   "execution_count": null,
   "metadata": {},
   "outputs": [],
   "source": [
    "len(df[df['test_coverage'].notnull()])"
   ]
  },
  {
   "cell_type": "markdown",
   "metadata": {},
   "source": [
    "Salvando em CSV"
   ]
  },
  {
   "cell_type": "code",
   "execution_count": null,
   "metadata": {},
   "outputs": [],
   "source": [
    "df.to_csv('repos-code-climate-{0}.csv'.format(lang))"
   ]
  },
  {
   "cell_type": "code",
   "execution_count": null,
   "metadata": {},
   "outputs": [],
   "source": []
  }
 ],
 "metadata": {
  "kernelspec": {
   "display_name": "Python 3",
   "language": "python",
   "name": "python3"
  },
  "language_info": {
   "codemirror_mode": {
    "name": "ipython",
    "version": 3
   },
   "file_extension": ".py",
   "mimetype": "text/x-python",
   "name": "python",
   "nbconvert_exporter": "python",
   "pygments_lexer": "ipython3",
   "version": "3.7.0"
  }
 },
 "nbformat": 4,
 "nbformat_minor": 2
}
